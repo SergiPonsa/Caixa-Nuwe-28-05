{
  "nbformat": 4,
  "nbformat_minor": 0,
  "metadata": {
    "colab": {
      "name": "Caixa_Nuwe_Hack_28_05.ipynb",
      "provenance": [],
      "collapsed_sections": [
        "z4KJ1Kktn5EV",
        "FxFKT0n3oNUK",
        "yHkR74ANoXVP",
        "ayQC4KQ7tUT4",
        "xnNIbV8YyKbK",
        "DAnH37MsmBGK"
      ]
    },
    "kernelspec": {
      "name": "python3",
      "display_name": "Python 3"
    },
    "language_info": {
      "name": "python"
    },
    "accelerator": "GPU"
  },
  "cells": [
    {
      "cell_type": "markdown",
      "source": [
        "[Data](https://nuwe.io/challenge/data-science-cb)"
      ],
      "metadata": {
        "id": "qAySCeEZ0-uj"
      }
    },
    {
      "cell_type": "markdown",
      "metadata": {
        "id": "EJVZH-jKTFjF"
      },
      "source": [
        "#Installation of the required libraries"
      ]
    },
    {
      "cell_type": "markdown",
      "metadata": {
        "id": "z4KJ1Kktn5EV"
      },
      "source": [
        "## Install conda for Colab (First play only this)"
      ]
    },
    {
      "cell_type": "code",
      "metadata": {
        "colab": {
          "base_uri": "https://localhost:8080/",
          "height": 0
        },
        "id": "IZ_DQz28nIEB",
        "outputId": "faf44981-d28a-4485-84a6-7fb4c36ab164"
      },
      "source": [
        "'''\n",
        "Not Required\n",
        "!pip install -q condacolab\n",
        "import condacolab\n",
        "condacolab.install()\n",
        "'''"
      ],
      "execution_count": 1,
      "outputs": [
        {
          "output_type": "execute_result",
          "data": {
            "text/plain": [
              "'\\nNot Required\\n!pip install -q condacolab\\nimport condacolab\\ncondacolab.install()\\n'"
            ],
            "application/vnd.google.colaboratory.intrinsic+json": {
              "type": "string"
            }
          },
          "metadata": {},
          "execution_count": 1
        }
      ]
    },
    {
      "cell_type": "code",
      "metadata": {
        "id": "wG524oZNnJ2V",
        "colab": {
          "base_uri": "https://localhost:8080/",
          "height": 0
        },
        "outputId": "fbdc01a6-0128-47fc-aad4-a6c957797956"
      },
      "source": [
        "'''\n",
        "import condacolab\n",
        "condacolab.check()\n",
        "'''"
      ],
      "execution_count": 2,
      "outputs": [
        {
          "output_type": "execute_result",
          "data": {
            "text/plain": [
              "'\\nimport condacolab\\ncondacolab.check()\\n'"
            ],
            "application/vnd.google.colaboratory.intrinsic+json": {
              "type": "string"
            }
          },
          "metadata": {},
          "execution_count": 2
        }
      ]
    },
    {
      "cell_type": "markdown",
      "metadata": {
        "id": "FxFKT0n3oNUK"
      },
      "source": [
        "## Install required repositories for the neural net ( Second you can run everything bellow )"
      ]
    },
    {
      "cell_type": "code",
      "metadata": {
        "colab": {
          "base_uri": "https://localhost:8080/",
          "height": 0
        },
        "id": "RFftXbT-STJ7",
        "outputId": "131f8de3-852e-4c6d-9bf3-be2564b69b09"
      },
      "source": [
        "'''\n",
        "Not Required\n",
        "!apt-get install -y axel imagemagick\n",
        "#!conda install pytorch=0.4.1 torchvision cuda91 -y -c pytorch\n",
        "!conda install pytorch torchvision torchaudio cudatoolkit=10.2 -c pytorch\n",
        "!conda install -y -c anaconda pip\n",
        "!conda install -y -c anaconda pyyaml\n",
        "#!pip install tensorboard tensorboardX\n",
        "'''"
      ],
      "execution_count": 3,
      "outputs": [
        {
          "output_type": "execute_result",
          "data": {
            "text/plain": [
              "'\\nNot Required\\n!apt-get install -y axel imagemagick\\n#!conda install pytorch=0.4.1 torchvision cuda91 -y -c pytorch\\n!conda install pytorch torchvision torchaudio cudatoolkit=10.2 -c pytorch\\n!conda install -y -c anaconda pip\\n!conda install -y -c anaconda pyyaml\\n#!pip install tensorboard tensorboardX\\n'"
            ],
            "application/vnd.google.colaboratory.intrinsic+json": {
              "type": "string"
            }
          },
          "metadata": {},
          "execution_count": 3
        }
      ]
    },
    {
      "cell_type": "code",
      "metadata": {
        "id": "yZ_TAMXu2axs"
      },
      "source": [
        "#!conda install -c pytorch pytorch cuda100"
      ],
      "execution_count": 4,
      "outputs": []
    },
    {
      "cell_type": "markdown",
      "metadata": {
        "id": "yHkR74ANoXVP"
      },
      "source": [
        "## Test everything is working well"
      ]
    },
    {
      "cell_type": "code",
      "metadata": {
        "id": "WQATek-1o15Z",
        "colab": {
          "base_uri": "https://localhost:8080/"
        },
        "outputId": "14fae9d7-7359-44ad-a329-d0b6a7db123e"
      },
      "source": [
        "import torch\n",
        "torch.cuda.is_available()"
      ],
      "execution_count": 5,
      "outputs": [
        {
          "output_type": "execute_result",
          "data": {
            "text/plain": [
              "True"
            ]
          },
          "metadata": {},
          "execution_count": 5
        }
      ]
    },
    {
      "cell_type": "code",
      "metadata": {
        "id": "pArwXglu3aFq",
        "colab": {
          "base_uri": "https://localhost:8080/"
        },
        "outputId": "d829ea28-27ca-43a2-a791-421c4d4c8464"
      },
      "source": [
        "!nvidia-smi"
      ],
      "execution_count": 6,
      "outputs": [
        {
          "output_type": "stream",
          "name": "stdout",
          "text": [
            "Sat May 28 16:04:04 2022       \n",
            "+-----------------------------------------------------------------------------+\n",
            "| NVIDIA-SMI 460.32.03    Driver Version: 460.32.03    CUDA Version: 11.2     |\n",
            "|-------------------------------+----------------------+----------------------+\n",
            "| GPU  Name        Persistence-M| Bus-Id        Disp.A | Volatile Uncorr. ECC |\n",
            "| Fan  Temp  Perf  Pwr:Usage/Cap|         Memory-Usage | GPU-Util  Compute M. |\n",
            "|                               |                      |               MIG M. |\n",
            "|===============================+======================+======================|\n",
            "|   0  Tesla T4            Off  | 00000000:00:04.0 Off |                    0 |\n",
            "| N/A   39C    P8    10W /  70W |      3MiB / 15109MiB |      0%      Default |\n",
            "|                               |                      |                  N/A |\n",
            "+-------------------------------+----------------------+----------------------+\n",
            "                                                                               \n",
            "+-----------------------------------------------------------------------------+\n",
            "| Processes:                                                                  |\n",
            "|  GPU   GI   CI        PID   Type   Process name                  GPU Memory |\n",
            "|        ID   ID                                                   Usage      |\n",
            "|=============================================================================|\n",
            "|  No running processes found                                                 |\n",
            "+-----------------------------------------------------------------------------+\n"
          ]
        }
      ]
    },
    {
      "cell_type": "markdown",
      "metadata": {
        "id": "77aXFM73nvZr"
      },
      "source": [
        "# Copy my github repository"
      ]
    },
    {
      "cell_type": "code",
      "metadata": {
        "colab": {
          "base_uri": "https://localhost:8080/"
        },
        "id": "HrBKPzVTTT-q",
        "outputId": "e0481411-cbab-4073-bfb1-45098dc8ba57"
      },
      "source": [
        "!apt-get install -y git"
      ],
      "execution_count": 7,
      "outputs": [
        {
          "output_type": "stream",
          "name": "stdout",
          "text": [
            "Reading package lists... Done\n",
            "Building dependency tree       \n",
            "Reading state information... Done\n",
            "git is already the newest version (1:2.17.1-1ubuntu0.11).\n",
            "The following package was automatically installed and is no longer required:\n",
            "  libnvidia-common-460\n",
            "Use 'apt autoremove' to remove it.\n",
            "0 upgraded, 0 newly installed, 0 to remove and 42 not upgraded.\n"
          ]
        }
      ]
    },
    {
      "cell_type": "code",
      "metadata": {
        "colab": {
          "base_uri": "https://localhost:8080/"
        },
        "id": "H7PfQSV8UIt3",
        "outputId": "7867986c-a23a-4e16-fbf8-13eb2d44ebbf"
      },
      "source": [
        "!git clone https://github.com/SergiPonsa/Caixa-Nuwe-28-05.git"
      ],
      "execution_count": 8,
      "outputs": [
        {
          "output_type": "stream",
          "name": "stdout",
          "text": [
            "fatal: destination path 'Caixa-Nuwe-28-05' already exists and is not an empty directory.\n"
          ]
        }
      ]
    },
    {
      "cell_type": "code",
      "metadata": {
        "id": "fQ2Pvf5MuFHU"
      },
      "source": [
        "#from google.colab import drive\n",
        "#drive.mount('/content/drive')"
      ],
      "execution_count": 9,
      "outputs": []
    },
    {
      "cell_type": "markdown",
      "source": [
        "# Git pull and visualize data in git"
      ],
      "metadata": {
        "id": "ayQC4KQ7tUT4"
      }
    },
    {
      "cell_type": "code",
      "source": [
        "%cd /content/Caixa-Nuwe-28-05/\n",
        "!pwd"
      ],
      "metadata": {
        "colab": {
          "base_uri": "https://localhost:8080/"
        },
        "id": "5LHmpKnBsj7v",
        "outputId": "86d7bc03-bd28-49df-8436-7ba5f0e1907b"
      },
      "execution_count": 10,
      "outputs": [
        {
          "output_type": "stream",
          "name": "stdout",
          "text": [
            "/content/Caixa-Nuwe-28-05\n",
            "/content/Caixa-Nuwe-28-05\n"
          ]
        }
      ]
    },
    {
      "cell_type": "code",
      "source": [
        "!git pull"
      ],
      "metadata": {
        "colab": {
          "base_uri": "https://localhost:8080/"
        },
        "id": "B-fkw-mntJ3u",
        "outputId": "8124a078-04e4-4196-b68c-d93ccf0d8669"
      },
      "execution_count": 11,
      "outputs": [
        {
          "output_type": "stream",
          "name": "stdout",
          "text": [
            "Already up to date.\n"
          ]
        }
      ]
    },
    {
      "cell_type": "code",
      "metadata": {
        "colab": {
          "base_uri": "https://localhost:8080/"
        },
        "id": "A1drlqVDLHqf",
        "outputId": "54ad85cc-ea07-4b85-a06b-7be79361289e"
      },
      "source": [
        "!ls"
      ],
      "execution_count": 12,
      "outputs": [
        {
          "output_type": "stream",
          "name": "stdout",
          "text": [
            "Caixa-Nuwe-28-05  README.md   train.csv\n",
            "model.pkl\t  test_x.csv  tweets_from2015_#Ibex35.csv\n"
          ]
        }
      ]
    },
    {
      "cell_type": "markdown",
      "source": [
        "# Program predict ibex from ibex data set"
      ],
      "metadata": {
        "id": "SstBBdD3tzxb"
      }
    },
    {
      "cell_type": "markdown",
      "source": [
        "## 0 - Required imports and functions definitions"
      ],
      "metadata": {
        "id": "3E5QjRABuAtw"
      }
    },
    {
      "cell_type": "markdown",
      "source": [
        "### 0.1 Functions definitions"
      ],
      "metadata": {
        "id": "H1jjtzMZirc9"
      }
    },
    {
      "cell_type": "code",
      "source": [
        "# loockBack = 20 number of data in each batch\n",
        "def prepare_batches (x_data, y_data = None, loockBack = 10):\n",
        "  x_batch = []\n",
        "  y_batch = []\n",
        "  for index in range(len(x_data) - loockBack):\n",
        "    x_batch.append(x_data[index: index + loockBack])\n",
        "    if not y_data is None:\n",
        "      y_batch.append(y_data[index: index + loockBack])\n",
        "\n",
        "  x_batch = np.array(x_batch)\n",
        "  if not y_data is None:\n",
        "    y_batch = np.array(y_batch)\n",
        "    return x_batch,y_batch\n",
        "  else:\n",
        "    return x_batch,None"
      ],
      "metadata": {
        "id": "G5MoAP8FcxTF"
      },
      "execution_count": 13,
      "outputs": []
    },
    {
      "cell_type": "markdown",
      "source": [
        "### 0.2 Imports"
      ],
      "metadata": {
        "id": "0YjurrktixDx"
      }
    },
    {
      "cell_type": "code",
      "source": [
        "import pandas as pd\n",
        "import numpy as np\n",
        "import torch\n",
        "import torch.nn as nn\n",
        "import matplotlib.pyplot as plt\n",
        "import seaborn as sns\n",
        "from sklearn.preprocessing import MinMaxScaler\n",
        "from sklearn import metrics\n",
        "import time"
      ],
      "metadata": {
        "id": "zcbnnLwmuImo"
      },
      "execution_count": 14,
      "outputs": []
    },
    {
      "cell_type": "markdown",
      "source": [
        "## 1 - Read the Ibex data, analyse, clean and prepare data"
      ],
      "metadata": {
        "id": "wCxcPb3yu05B"
      }
    },
    {
      "cell_type": "markdown",
      "source": [
        "### 1.1 Read the data"
      ],
      "metadata": {
        "id": "xnNIbV8YyKbK"
      }
    },
    {
      "cell_type": "code",
      "source": [
        "train_df = pd.read_csv('train.csv')\n",
        "test_x_df = pd.read_csv('test_x.csv')"
      ],
      "metadata": {
        "id": "PvUJsiK6u60B"
      },
      "execution_count": 15,
      "outputs": []
    },
    {
      "cell_type": "markdown",
      "source": [
        "### 1.2 Analyse and clean the data"
      ],
      "metadata": {
        "id": "Sl6kzxdFyQBe"
      }
    },
    {
      "cell_type": "markdown",
      "source": [
        "I check If the data is complete"
      ],
      "metadata": {
        "id": "eX60OXkavfIb"
      }
    },
    {
      "cell_type": "code",
      "source": [
        "print(test_x_df.info())"
      ],
      "metadata": {
        "colab": {
          "base_uri": "https://localhost:8080/"
        },
        "id": "96XtkDIu6Gek",
        "outputId": "40a520a7-d3e8-4bd4-d5d2-36d833b8f309"
      },
      "execution_count": 16,
      "outputs": [
        {
          "output_type": "stream",
          "name": "stdout",
          "text": [
            "<class 'pandas.core.frame.DataFrame'>\n",
            "RangeIndex: 726 entries, 0 to 725\n",
            "Data columns (total 8 columns):\n",
            " #   Column      Non-Null Count  Dtype  \n",
            "---  ------      --------------  -----  \n",
            " 0   test_index  726 non-null    int64  \n",
            " 1   Date        726 non-null    object \n",
            " 2   Open        726 non-null    float64\n",
            " 3   High        726 non-null    float64\n",
            " 4   Low         726 non-null    float64\n",
            " 5   Close       726 non-null    float64\n",
            " 6   Adj Close   726 non-null    float64\n",
            " 7   Volume      726 non-null    float64\n",
            "dtypes: float64(6), int64(1), object(1)\n",
            "memory usage: 45.5+ KB\n",
            "None\n"
          ]
        }
      ]
    },
    {
      "cell_type": "code",
      "source": [
        "print(train_df.info())"
      ],
      "metadata": {
        "colab": {
          "base_uri": "https://localhost:8080/"
        },
        "id": "-Q60noHJvU-E",
        "outputId": "af35c134-b11c-46c1-b48f-c8a1a9b13ed7"
      },
      "execution_count": 17,
      "outputs": [
        {
          "output_type": "stream",
          "name": "stdout",
          "text": [
            "<class 'pandas.core.frame.DataFrame'>\n",
            "RangeIndex: 6554 entries, 0 to 6553\n",
            "Data columns (total 8 columns):\n",
            " #   Column     Non-Null Count  Dtype  \n",
            "---  ------     --------------  -----  \n",
            " 0   Date       6554 non-null   object \n",
            " 1   Open       6421 non-null   float64\n",
            " 2   High       6421 non-null   float64\n",
            " 3   Low        6421 non-null   float64\n",
            " 4   Close      6421 non-null   float64\n",
            " 5   Adj Close  6421 non-null   float64\n",
            " 6   Volume     6421 non-null   float64\n",
            " 7   Target     6554 non-null   int64  \n",
            "dtypes: float64(6), int64(1), object(1)\n",
            "memory usage: 409.8+ KB\n",
            "None\n"
          ]
        }
      ]
    },
    {
      "cell_type": "markdown",
      "source": [
        "The data is not complete but only 100 values, I can delete them and I am not losing to much information"
      ],
      "metadata": {
        "id": "ut1BWQP3vkEO"
      }
    },
    {
      "cell_type": "code",
      "source": [
        "train_df = train_df.dropna()\n",
        "print(train_df.info())"
      ],
      "metadata": {
        "colab": {
          "base_uri": "https://localhost:8080/"
        },
        "id": "dBo4vwoLvtwQ",
        "outputId": "8a89f6bb-567b-48c6-b6ad-21ee452b1cec"
      },
      "execution_count": 18,
      "outputs": [
        {
          "output_type": "stream",
          "name": "stdout",
          "text": [
            "<class 'pandas.core.frame.DataFrame'>\n",
            "Int64Index: 6421 entries, 0 to 6553\n",
            "Data columns (total 8 columns):\n",
            " #   Column     Non-Null Count  Dtype  \n",
            "---  ------     --------------  -----  \n",
            " 0   Date       6421 non-null   object \n",
            " 1   Open       6421 non-null   float64\n",
            " 2   High       6421 non-null   float64\n",
            " 3   Low        6421 non-null   float64\n",
            " 4   Close      6421 non-null   float64\n",
            " 5   Adj Close  6421 non-null   float64\n",
            " 6   Volume     6421 non-null   float64\n",
            " 7   Target     6421 non-null   int64  \n",
            "dtypes: float64(6), int64(1), object(1)\n",
            "memory usage: 451.5+ KB\n",
            "None\n"
          ]
        }
      ]
    },
    {
      "cell_type": "markdown",
      "source": [
        "I visualize the data to be able to understand better the data"
      ],
      "metadata": {
        "id": "nbu9UQ7qw_98"
      }
    },
    {
      "cell_type": "code",
      "source": [
        "print(train_df.head())"
      ],
      "metadata": {
        "colab": {
          "base_uri": "https://localhost:8080/"
        },
        "id": "0_p-1scXwwds",
        "outputId": "c3a10f87-17df-42d5-f04c-e12df9f39fba"
      },
      "execution_count": 19,
      "outputs": [
        {
          "output_type": "stream",
          "name": "stdout",
          "text": [
            "         Date         Open         High          Low        Close  \\\n",
            "0  1994-01-03  3615.199951  3654.699951  3581.000000  3654.500000   \n",
            "1  1994-01-04  3654.500000  3675.500000  3625.100098  3630.300049   \n",
            "2  1994-01-05  3625.199951  3625.199951  3583.399902  3621.199951   \n",
            "4  1994-01-07  3621.199951  3644.399902  3598.699951  3636.399902   \n",
            "5  1994-01-10  3655.199951  3678.199951  3655.199951  3660.600098   \n",
            "\n",
            "     Adj Close  Volume  Target  \n",
            "0  3654.496338     0.0       0  \n",
            "1  3630.296387     0.0       1  \n",
            "2  3621.196289     0.0       1  \n",
            "4  3636.396240     0.0       1  \n",
            "5  3660.596436     0.0       1  \n"
          ]
        }
      ]
    },
    {
      "cell_type": "code",
      "source": [
        "print(train_df.describe())"
      ],
      "metadata": {
        "colab": {
          "base_uri": "https://localhost:8080/"
        },
        "id": "qyINvSRtyCAn",
        "outputId": "027425d0-e33f-4a68-a234-22558d4a95d2"
      },
      "execution_count": 20,
      "outputs": [
        {
          "output_type": "stream",
          "name": "stdout",
          "text": [
            "               Open          High           Low         Close     Adj Close  \\\n",
            "count   6421.000000   6421.000000   6421.000000   6421.000000   6421.000000   \n",
            "mean    8936.540448   9005.235576   8858.340567   8934.978558   8934.970624   \n",
            "std     2732.102441   2749.009324   2712.511028   2731.032625   2731.030170   \n",
            "min     2865.100098   2877.300049   2833.600098   2865.100098   2865.097168   \n",
            "25%     7732.399902   7817.200195   7641.500000   7727.799805   7727.791992   \n",
            "50%     9329.700195   9404.599609   9243.000000   9331.000000   9331.000000   \n",
            "75%    10525.500000  10590.299805  10441.200195  10523.400391  10523.400391   \n",
            "max    15999.200195  16040.400391  15868.599609  15945.700195  15945.683594   \n",
            "\n",
            "             Volume       Target  \n",
            "count  6.421000e+03  6421.000000  \n",
            "mean   8.218074e+07     0.527644  \n",
            "std    1.231845e+08     0.499274  \n",
            "min    0.000000e+00     0.000000  \n",
            "25%    0.000000e+00     0.000000  \n",
            "50%    1.966000e+05     1.000000  \n",
            "75%    1.773980e+08     1.000000  \n",
            "max    7.894902e+08     1.000000  \n"
          ]
        }
      ]
    },
    {
      "cell_type": "markdown",
      "source": [
        "I check the correlations"
      ],
      "metadata": {
        "id": "6b562y46JvMm"
      }
    },
    {
      "cell_type": "code",
      "source": [
        "print(train_df['Target'].corr(train_df['Adj Close']))\n",
        "print(train_df['Target'].corr(train_df['Open']))\n",
        "print(train_df['Target'].corr(train_df['High']))\n",
        "print(train_df['Target'].corr(train_df['Low']))\n",
        "print(train_df['Target'].corr(train_df['Close']))\n",
        "print(train_df['Target'].corr(train_df['Volume']))"
      ],
      "metadata": {
        "colab": {
          "base_uri": "https://localhost:8080/"
        },
        "id": "SoeErqEvKRC7",
        "outputId": "a111ec8f-6b0a-4c55-c78d-c5dae6a3da04"
      },
      "execution_count": 21,
      "outputs": [
        {
          "output_type": "stream",
          "name": "stdout",
          "text": [
            "-0.017413997649211612\n",
            "-0.017777092372831756\n",
            "-0.017758741226730563\n",
            "-0.01765471331507807\n",
            "-0.01741399386196035\n",
            "0.0003054249426972032\n"
          ]
        }
      ]
    },
    {
      "cell_type": "code",
      "source": [
        "print(train_df['Open'].corr(train_df['Adj Close']))\n",
        "print(train_df['Open'].corr(train_df['Close']))\n",
        "print(train_df['Open'].corr(train_df['High']))\n",
        "print(train_df['Open'].corr(train_df['Low']))\n",
        "print(train_df['Open'].corr(train_df['Volume']))"
      ],
      "metadata": {
        "colab": {
          "base_uri": "https://localhost:8080/"
        },
        "id": "rVYA7ojxItHj",
        "outputId": "16f3e0ce-730b-4b24-e7df-23b8bcc815ae"
      },
      "execution_count": 22,
      "outputs": [
        {
          "output_type": "stream",
          "name": "stdout",
          "text": [
            "0.9991869125864032\n",
            "0.9991869122480536\n",
            "0.9996620595980537\n",
            "0.9995332248169949\n",
            "0.13415866925589653\n"
          ]
        }
      ]
    },
    {
      "cell_type": "markdown",
      "source": [
        "From all the data it seems that all is really correlated so they will not add to many information, except the Volume.\n",
        "But the volume is little related to the Target."
      ],
      "metadata": {
        "id": "x0sRjsawKH4w"
      }
    },
    {
      "cell_type": "markdown",
      "source": [
        "I am going to keep only the 'Open' data which is sligthly more correlated to the output and the volume which is not correlated to the other and Close to try to get a bit more of information."
      ],
      "metadata": {
        "id": "5s3O4tS9LH_V"
      }
    },
    {
      "cell_type": "code",
      "source": [
        "train_df = train_df.drop(columns=['Adj Close','High','Low'])"
      ],
      "metadata": {
        "id": "M1AB7PhjLUxo"
      },
      "execution_count": 23,
      "outputs": []
    },
    {
      "cell_type": "markdown",
      "source": [
        "The volume also seems that some years was always 0, probably because it was not mesured"
      ],
      "metadata": {
        "id": "vl9WDKsFzehS"
      }
    },
    {
      "cell_type": "code",
      "source": [
        "volume0_df = train_df.loc[train_df['Volume']== 0.0]\n",
        "#volume0_df.head(360) # 1 years\n",
        "#volume0_df.head(720) # 2 years\n",
        "volume0_df.head(1440) # 4 years\n",
        "volume0_df.head(1440) # 4 years"
      ],
      "metadata": {
        "colab": {
          "base_uri": "https://localhost:8080/",
          "height": 424
        },
        "id": "6iUoC4SSzokP",
        "outputId": "75d15f4c-0a26-4a7c-ceb0-79cc6ecce35d"
      },
      "execution_count": 24,
      "outputs": [
        {
          "output_type": "execute_result",
          "data": {
            "text/plain": [
              "            Date         Open        Close  Volume  Target\n",
              "0     1994-01-03  3615.199951  3654.500000     0.0       0\n",
              "1     1994-01-04  3654.500000  3630.300049     0.0       1\n",
              "2     1994-01-05  3625.199951  3621.199951     0.0       1\n",
              "4     1994-01-07  3621.199951  3636.399902     0.0       1\n",
              "5     1994-01-10  3655.199951  3660.600098     0.0       1\n",
              "...          ...          ...          ...     ...     ...\n",
              "1499  1999-10-01  9525.400391  9482.799805     0.0       1\n",
              "1500  1999-10-04  9482.799805  9601.000000     0.0       1\n",
              "1501  1999-10-05  9601.000000  9656.299805     0.0       1\n",
              "1502  1999-10-06  9644.700195  9624.700195     0.0       1\n",
              "1503  1999-10-07  9624.700195  9721.000000     0.0       0\n",
              "\n",
              "[1440 rows x 5 columns]"
            ],
            "text/html": [
              "\n",
              "  <div id=\"df-76a7020d-dea1-4ff7-ba49-53f6b57f12c2\">\n",
              "    <div class=\"colab-df-container\">\n",
              "      <div>\n",
              "<style scoped>\n",
              "    .dataframe tbody tr th:only-of-type {\n",
              "        vertical-align: middle;\n",
              "    }\n",
              "\n",
              "    .dataframe tbody tr th {\n",
              "        vertical-align: top;\n",
              "    }\n",
              "\n",
              "    .dataframe thead th {\n",
              "        text-align: right;\n",
              "    }\n",
              "</style>\n",
              "<table border=\"1\" class=\"dataframe\">\n",
              "  <thead>\n",
              "    <tr style=\"text-align: right;\">\n",
              "      <th></th>\n",
              "      <th>Date</th>\n",
              "      <th>Open</th>\n",
              "      <th>Close</th>\n",
              "      <th>Volume</th>\n",
              "      <th>Target</th>\n",
              "    </tr>\n",
              "  </thead>\n",
              "  <tbody>\n",
              "    <tr>\n",
              "      <th>0</th>\n",
              "      <td>1994-01-03</td>\n",
              "      <td>3615.199951</td>\n",
              "      <td>3654.500000</td>\n",
              "      <td>0.0</td>\n",
              "      <td>0</td>\n",
              "    </tr>\n",
              "    <tr>\n",
              "      <th>1</th>\n",
              "      <td>1994-01-04</td>\n",
              "      <td>3654.500000</td>\n",
              "      <td>3630.300049</td>\n",
              "      <td>0.0</td>\n",
              "      <td>1</td>\n",
              "    </tr>\n",
              "    <tr>\n",
              "      <th>2</th>\n",
              "      <td>1994-01-05</td>\n",
              "      <td>3625.199951</td>\n",
              "      <td>3621.199951</td>\n",
              "      <td>0.0</td>\n",
              "      <td>1</td>\n",
              "    </tr>\n",
              "    <tr>\n",
              "      <th>4</th>\n",
              "      <td>1994-01-07</td>\n",
              "      <td>3621.199951</td>\n",
              "      <td>3636.399902</td>\n",
              "      <td>0.0</td>\n",
              "      <td>1</td>\n",
              "    </tr>\n",
              "    <tr>\n",
              "      <th>5</th>\n",
              "      <td>1994-01-10</td>\n",
              "      <td>3655.199951</td>\n",
              "      <td>3660.600098</td>\n",
              "      <td>0.0</td>\n",
              "      <td>1</td>\n",
              "    </tr>\n",
              "    <tr>\n",
              "      <th>...</th>\n",
              "      <td>...</td>\n",
              "      <td>...</td>\n",
              "      <td>...</td>\n",
              "      <td>...</td>\n",
              "      <td>...</td>\n",
              "    </tr>\n",
              "    <tr>\n",
              "      <th>1499</th>\n",
              "      <td>1999-10-01</td>\n",
              "      <td>9525.400391</td>\n",
              "      <td>9482.799805</td>\n",
              "      <td>0.0</td>\n",
              "      <td>1</td>\n",
              "    </tr>\n",
              "    <tr>\n",
              "      <th>1500</th>\n",
              "      <td>1999-10-04</td>\n",
              "      <td>9482.799805</td>\n",
              "      <td>9601.000000</td>\n",
              "      <td>0.0</td>\n",
              "      <td>1</td>\n",
              "    </tr>\n",
              "    <tr>\n",
              "      <th>1501</th>\n",
              "      <td>1999-10-05</td>\n",
              "      <td>9601.000000</td>\n",
              "      <td>9656.299805</td>\n",
              "      <td>0.0</td>\n",
              "      <td>1</td>\n",
              "    </tr>\n",
              "    <tr>\n",
              "      <th>1502</th>\n",
              "      <td>1999-10-06</td>\n",
              "      <td>9644.700195</td>\n",
              "      <td>9624.700195</td>\n",
              "      <td>0.0</td>\n",
              "      <td>1</td>\n",
              "    </tr>\n",
              "    <tr>\n",
              "      <th>1503</th>\n",
              "      <td>1999-10-07</td>\n",
              "      <td>9624.700195</td>\n",
              "      <td>9721.000000</td>\n",
              "      <td>0.0</td>\n",
              "      <td>0</td>\n",
              "    </tr>\n",
              "  </tbody>\n",
              "</table>\n",
              "<p>1440 rows × 5 columns</p>\n",
              "</div>\n",
              "      <button class=\"colab-df-convert\" onclick=\"convertToInteractive('df-76a7020d-dea1-4ff7-ba49-53f6b57f12c2')\"\n",
              "              title=\"Convert this dataframe to an interactive table.\"\n",
              "              style=\"display:none;\">\n",
              "        \n",
              "  <svg xmlns=\"http://www.w3.org/2000/svg\" height=\"24px\"viewBox=\"0 0 24 24\"\n",
              "       width=\"24px\">\n",
              "    <path d=\"M0 0h24v24H0V0z\" fill=\"none\"/>\n",
              "    <path d=\"M18.56 5.44l.94 2.06.94-2.06 2.06-.94-2.06-.94-.94-2.06-.94 2.06-2.06.94zm-11 1L8.5 8.5l.94-2.06 2.06-.94-2.06-.94L8.5 2.5l-.94 2.06-2.06.94zm10 10l.94 2.06.94-2.06 2.06-.94-2.06-.94-.94-2.06-.94 2.06-2.06.94z\"/><path d=\"M17.41 7.96l-1.37-1.37c-.4-.4-.92-.59-1.43-.59-.52 0-1.04.2-1.43.59L10.3 9.45l-7.72 7.72c-.78.78-.78 2.05 0 2.83L4 21.41c.39.39.9.59 1.41.59.51 0 1.02-.2 1.41-.59l7.78-7.78 2.81-2.81c.8-.78.8-2.07 0-2.86zM5.41 20L4 18.59l7.72-7.72 1.47 1.35L5.41 20z\"/>\n",
              "  </svg>\n",
              "      </button>\n",
              "      \n",
              "  <style>\n",
              "    .colab-df-container {\n",
              "      display:flex;\n",
              "      flex-wrap:wrap;\n",
              "      gap: 12px;\n",
              "    }\n",
              "\n",
              "    .colab-df-convert {\n",
              "      background-color: #E8F0FE;\n",
              "      border: none;\n",
              "      border-radius: 50%;\n",
              "      cursor: pointer;\n",
              "      display: none;\n",
              "      fill: #1967D2;\n",
              "      height: 32px;\n",
              "      padding: 0 0 0 0;\n",
              "      width: 32px;\n",
              "    }\n",
              "\n",
              "    .colab-df-convert:hover {\n",
              "      background-color: #E2EBFA;\n",
              "      box-shadow: 0px 1px 2px rgba(60, 64, 67, 0.3), 0px 1px 3px 1px rgba(60, 64, 67, 0.15);\n",
              "      fill: #174EA6;\n",
              "    }\n",
              "\n",
              "    [theme=dark] .colab-df-convert {\n",
              "      background-color: #3B4455;\n",
              "      fill: #D2E3FC;\n",
              "    }\n",
              "\n",
              "    [theme=dark] .colab-df-convert:hover {\n",
              "      background-color: #434B5C;\n",
              "      box-shadow: 0px 1px 3px 1px rgba(0, 0, 0, 0.15);\n",
              "      filter: drop-shadow(0px 1px 2px rgba(0, 0, 0, 0.3));\n",
              "      fill: #FFFFFF;\n",
              "    }\n",
              "  </style>\n",
              "\n",
              "      <script>\n",
              "        const buttonEl =\n",
              "          document.querySelector('#df-76a7020d-dea1-4ff7-ba49-53f6b57f12c2 button.colab-df-convert');\n",
              "        buttonEl.style.display =\n",
              "          google.colab.kernel.accessAllowed ? 'block' : 'none';\n",
              "\n",
              "        async function convertToInteractive(key) {\n",
              "          const element = document.querySelector('#df-76a7020d-dea1-4ff7-ba49-53f6b57f12c2');\n",
              "          const dataTable =\n",
              "            await google.colab.kernel.invokeFunction('convertToInteractive',\n",
              "                                                     [key], {});\n",
              "          if (!dataTable) return;\n",
              "\n",
              "          const docLinkHtml = 'Like what you see? Visit the ' +\n",
              "            '<a target=\"_blank\" href=https://colab.research.google.com/notebooks/data_table.ipynb>data table notebook</a>'\n",
              "            + ' to learn more about interactive tables.';\n",
              "          element.innerHTML = '';\n",
              "          dataTable['output_type'] = 'display_data';\n",
              "          await google.colab.output.renderOutput(dataTable, element);\n",
              "          const docLink = document.createElement('div');\n",
              "          docLink.innerHTML = docLinkHtml;\n",
              "          element.appendChild(docLink);\n",
              "        }\n",
              "      </script>\n",
              "    </div>\n",
              "  </div>\n",
              "  "
            ]
          },
          "metadata": {},
          "execution_count": 24
        }
      ]
    },
    {
      "cell_type": "code",
      "source": [
        "print(volume0_df.info())"
      ],
      "metadata": {
        "colab": {
          "base_uri": "https://localhost:8080/"
        },
        "id": "SOvhsAWA1d08",
        "outputId": "7f942df5-a275-4bf2-d116-44584992a349"
      },
      "execution_count": 25,
      "outputs": [
        {
          "output_type": "stream",
          "name": "stdout",
          "text": [
            "<class 'pandas.core.frame.DataFrame'>\n",
            "Int64Index: 1649 entries, 0 to 4950\n",
            "Data columns (total 5 columns):\n",
            " #   Column  Non-Null Count  Dtype  \n",
            "---  ------  --------------  -----  \n",
            " 0   Date    1649 non-null   object \n",
            " 1   Open    1649 non-null   float64\n",
            " 2   Close   1649 non-null   float64\n",
            " 3   Volume  1649 non-null   float64\n",
            " 4   Target  1649 non-null   int64  \n",
            "dtypes: float64(3), int64(1), object(1)\n",
            "memory usage: 77.3+ KB\n",
            "None\n"
          ]
        }
      ]
    },
    {
      "cell_type": "markdown",
      "source": [
        "It seems my hypothesis is true so I will delete the elements with volume 0"
      ],
      "metadata": {
        "id": "yz_KwzCL3K6x"
      }
    },
    {
      "cell_type": "code",
      "source": [
        "train_df = train_df.loc[train_df['Volume']!= 0.0]"
      ],
      "metadata": {
        "id": "L-0iwqw73KN1"
      },
      "execution_count": 26,
      "outputs": []
    },
    {
      "cell_type": "code",
      "source": [
        "print(train_df.head())"
      ],
      "metadata": {
        "colab": {
          "base_uri": "https://localhost:8080/"
        },
        "id": "ROUi_SwC4WCX",
        "outputId": "1e2c60c6-1bfd-4d3b-c980-9655e4affbfb"
      },
      "execution_count": 27,
      "outputs": [
        {
          "output_type": "stream",
          "name": "stdout",
          "text": [
            "            Date          Open         Close     Volume  Target\n",
            "1710  2000-07-24  10879.599609  10831.500000  5545600.0       0\n",
            "1711  2000-07-25  10831.500000  10714.599609  7368000.0       0\n",
            "1712  2000-07-26  10722.599609  10743.799805  6643800.0       0\n",
            "1713  2000-07-27  10743.799805  10726.000000  6989400.0       0\n",
            "1714  2000-07-28  10726.000000  10560.000000  6670000.0       1\n"
          ]
        }
      ]
    },
    {
      "cell_type": "markdown",
      "source": [
        "### 1.3 Prepare Scalers"
      ],
      "metadata": {
        "id": "ooUB9RE26662"
      }
    },
    {
      "cell_type": "markdown",
      "source": [
        "To avoid that the units can affect to the effect of an specific feature I scale al between 0 and 1.\n"
      ],
      "metadata": {
        "id": "bGU-Nnsz6_we"
      }
    },
    {
      "cell_type": "code",
      "source": [
        "scalerPrice = MinMaxScaler(feature_range=(0,1))\n",
        "scalerVolume = MinMaxScaler(feature_range=(0,1))"
      ],
      "metadata": {
        "id": "hf-VqaDi7SLE"
      },
      "execution_count": 28,
      "outputs": []
    },
    {
      "cell_type": "code",
      "source": [
        "price = train_df['Open'].values.reshape(-1, 1)\n",
        "scalerPrice.fit(price)\n",
        "volume = train_df['Volume'].values.reshape(-1, 1)\n",
        "scalerVolume.fit(volume)"
      ],
      "metadata": {
        "colab": {
          "base_uri": "https://localhost:8080/"
        },
        "id": "HQH7jOth9vwx",
        "outputId": "2749e3e0-2796-404d-b7d9-cc9715ce69cb"
      },
      "execution_count": 29,
      "outputs": [
        {
          "output_type": "execute_result",
          "data": {
            "text/plain": [
              "MinMaxScaler()"
            ]
          },
          "metadata": {},
          "execution_count": 29
        }
      ]
    },
    {
      "cell_type": "markdown",
      "source": [
        "### 1.4 Prepare Train Data"
      ],
      "metadata": {
        "id": "wvOlRo1IkIm2"
      }
    },
    {
      "cell_type": "markdown",
      "source": [
        "#### 1.4.1 Put everything in the same reference"
      ],
      "metadata": {
        "id": "TYT1BEVqAhs9"
      }
    },
    {
      "cell_type": "code",
      "source": [
        "columns_to_not_scale = ['Date','Target']\n",
        "columns_to_scale_with_volume = ['Volume']\n",
        "\n",
        "for column in list(train_df.keys()):\n",
        "  if column in columns_to_not_scale:\n",
        "    continue\n",
        "  if column in columns_to_scale_with_volume:\n",
        "    train_df[column] = scalerVolume.transform(train_df[column].values.reshape(-1, 1))\n",
        "  else:\n",
        "    train_df[column] = scalerPrice.transform(train_df[column].values.reshape(-1, 1))"
      ],
      "metadata": {
        "id": "3Gu0Zdi2Eg16"
      },
      "execution_count": 30,
      "outputs": []
    },
    {
      "cell_type": "code",
      "source": [
        "print(train_df.head())"
      ],
      "metadata": {
        "colab": {
          "base_uri": "https://localhost:8080/"
        },
        "id": "y_fxBepaFrJs",
        "outputId": "bc97d481-b49e-48b4-d180-4456e4b947dd"
      },
      "execution_count": 31,
      "outputs": [
        {
          "output_type": "stream",
          "name": "stdout",
          "text": [
            "            Date      Open     Close    Volume  Target\n",
            "1710  2000-07-24  0.521729  0.517236  0.006977       0\n",
            "1711  2000-07-25  0.517236  0.506315  0.009285       0\n",
            "1712  2000-07-26  0.507062  0.509043  0.008368       0\n",
            "1713  2000-07-27  0.509043  0.507380  0.008806       0\n",
            "1714  2000-07-28  0.507380  0.491873  0.008401       1\n"
          ]
        }
      ]
    },
    {
      "cell_type": "code",
      "source": [
        "print(train_df.describe())"
      ],
      "metadata": {
        "colab": {
          "base_uri": "https://localhost:8080/"
        },
        "id": "N0P0Z2r2HEoR",
        "outputId": "e0a15524-2bfc-439b-d13d-b6c2c7416e1b"
      },
      "execution_count": 32,
      "outputs": [
        {
          "output_type": "stream",
          "name": "stdout",
          "text": [
            "              Open        Close       Volume       Target\n",
            "count  4772.000000  4772.000000  4772.000000  4772.000000\n",
            "mean      0.417468     0.417154     0.140023     0.524728\n",
            "std       0.190009     0.190073     0.166504     0.499441\n",
            "min       0.000000     0.006511     0.000000     0.000000\n",
            "25%       0.287230     0.286651     0.000156     0.000000\n",
            "50%       0.403428     0.402848     0.009801     1.000000\n",
            "75%       0.509592     0.509709     0.271288     1.000000\n",
            "max       1.000000     0.995002     1.000000     1.000000\n"
          ]
        }
      ]
    },
    {
      "cell_type": "markdown",
      "source": [
        "#### 1.4.2 Get data in the desired net format"
      ],
      "metadata": {
        "id": "qt0mCDhQjAvk"
      }
    },
    {
      "cell_type": "code",
      "source": [
        "x_df = train_df.drop(columns = ['Target','Date'])\n",
        "x_data = x_df.values\n",
        "y_data = train_df['Target'].values"
      ],
      "metadata": {
        "id": "N_QLwxApa3-U"
      },
      "execution_count": 33,
      "outputs": []
    },
    {
      "cell_type": "markdown",
      "source": [
        "Create the batches"
      ],
      "metadata": {
        "id": "_tthJfUEiRBL"
      }
    },
    {
      "cell_type": "code",
      "source": [
        "x, y = prepare_batches (x_data, y_data)"
      ],
      "metadata": {
        "id": "dousnNGMiQOH"
      },
      "execution_count": 34,
      "outputs": []
    },
    {
      "cell_type": "code",
      "source": [
        "print(x.shape)\n",
        "print(y.shape)"
      ],
      "metadata": {
        "id": "aexjp5WhlhqO",
        "colab": {
          "base_uri": "https://localhost:8080/"
        },
        "outputId": "bc35da61-41af-4ef1-cabd-dd1c07d45e97"
      },
      "execution_count": 35,
      "outputs": [
        {
          "output_type": "stream",
          "name": "stdout",
          "text": [
            "(4762, 10, 3)\n",
            "(4762, 10)\n"
          ]
        }
      ]
    },
    {
      "cell_type": "code",
      "source": [
        "n_data = x.shape[0]\n",
        "x_one_train = 0.7\n",
        "n_data_train = int(np.floor(n_data * x_one_train))\n",
        "print('n_data_train',n_data_train)\n",
        "x_train = x[:n_data_train,:,:]\n",
        "y_train = y[:n_data_train,:]\n",
        "x_val = x[n_data_train::,:,:]\n",
        "y_val = y_data[n_data_train+10:]"
      ],
      "metadata": {
        "colab": {
          "base_uri": "https://localhost:8080/"
        },
        "id": "O-IsGCaoAjBD",
        "outputId": "b0593fe3-87d5-4036-d0f1-f2456761921f"
      },
      "execution_count": 36,
      "outputs": [
        {
          "output_type": "stream",
          "name": "stdout",
          "text": [
            "n_data_train 3333\n"
          ]
        }
      ]
    },
    {
      "cell_type": "code",
      "source": [
        "print(x_train.shape)\n",
        "print(y_train.shape)"
      ],
      "metadata": {
        "colab": {
          "base_uri": "https://localhost:8080/"
        },
        "id": "8c3Qy2IQBmRb",
        "outputId": "b21f164e-e273-47c1-a7b4-2feb6873fe0a"
      },
      "execution_count": 37,
      "outputs": [
        {
          "output_type": "stream",
          "name": "stdout",
          "text": [
            "(3333, 10, 3)\n",
            "(3333, 10)\n"
          ]
        }
      ]
    },
    {
      "cell_type": "code",
      "source": [
        "print(x_val.shape)\n",
        "print(y_val.shape)"
      ],
      "metadata": {
        "colab": {
          "base_uri": "https://localhost:8080/"
        },
        "id": "X_G_FDaxB1f1",
        "outputId": "304fb971-0fc8-4a92-aa26-13b32f81601b"
      },
      "execution_count": 38,
      "outputs": [
        {
          "output_type": "stream",
          "name": "stdout",
          "text": [
            "(1429, 10, 3)\n",
            "(1429,)\n"
          ]
        }
      ]
    },
    {
      "cell_type": "markdown",
      "source": [
        "Convert to Tensors"
      ],
      "metadata": {
        "id": "QsOoRHzylrRc"
      }
    },
    {
      "cell_type": "code",
      "source": [
        "x_train = torch.from_numpy(x_train).type(torch.Tensor)\n",
        "y_train = torch.from_numpy(y_train).type(torch.Tensor)\n",
        "x_val = torch.from_numpy(x_val).type(torch.Tensor)"
      ],
      "metadata": {
        "id": "TOtl01uhlkk6"
      },
      "execution_count": 39,
      "outputs": []
    },
    {
      "cell_type": "markdown",
      "source": [
        "### 1.5 Prepare Test Data"
      ],
      "metadata": {
        "id": "DAnH37MsmBGK"
      }
    },
    {
      "cell_type": "markdown",
      "source": [
        "#### 1.5.1 Put everything in the same reference"
      ],
      "metadata": {
        "id": "0eCtgRgWmBGL"
      }
    },
    {
      "cell_type": "code",
      "source": [
        "columns_to_not_scale = ['Date','Target','test_index']\n",
        "columns_to_scale_with_volume = ['Volume']\n",
        "\n",
        "for column in list(test_x_df.keys()):\n",
        "  if column in columns_to_not_scale:\n",
        "    continue\n",
        "  if column in columns_to_scale_with_volume:\n",
        "    test_x_df[column] = scalerVolume.transform(test_x_df[column].values.reshape(-1, 1))\n",
        "  else:\n",
        "    test_x_df[column] = scalerPrice.transform(test_x_df[column].values.reshape(-1, 1))"
      ],
      "metadata": {
        "id": "EMRT9eJQmBGL"
      },
      "execution_count": 40,
      "outputs": []
    },
    {
      "cell_type": "code",
      "source": [
        "print(test_x_df.head())"
      ],
      "metadata": {
        "colab": {
          "base_uri": "https://localhost:8080/"
        },
        "outputId": "313be2b9-f80b-4d4d-e5f6-8ee04989de34",
        "id": "Gc7EZQlpmBGL"
      },
      "execution_count": 41,
      "outputs": [
        {
          "output_type": "stream",
          "name": "stdout",
          "text": [
            "   test_index        Date      Open      High       Low     Close  Adj Close  \\\n",
            "0        6557  2019-06-05  0.358918  0.362337  0.355013  0.360198   0.360198   \n",
            "1        6558  2019-06-06  0.361945  0.369138  0.358909  0.361945   0.361945   \n",
            "2        6559  2019-06-07  0.363579  0.370558  0.363486  0.368194   0.368194   \n",
            "3        6560  2019-06-10  0.372688  0.374369  0.369315  0.373613   0.373613   \n",
            "4        6561  2019-06-11  0.373099  0.377200  0.371679  0.372492   0.372492   \n",
            "\n",
            "     Volume  \n",
            "0  0.201045  \n",
            "1  0.269406  \n",
            "2  0.190799  \n",
            "3  0.129566  \n",
            "4  0.183245  \n"
          ]
        }
      ]
    },
    {
      "cell_type": "code",
      "source": [
        "print(test_x_df.describe())"
      ],
      "metadata": {
        "colab": {
          "base_uri": "https://localhost:8080/"
        },
        "outputId": "d20377ae-1c62-433e-958d-9472579132a9",
        "id": "MpDu4f74mBGM"
      },
      "execution_count": 42,
      "outputs": [
        {
          "output_type": "stream",
          "name": "stdout",
          "text": [
            "        test_index        Open        High         Low       Close  \\\n",
            "count   726.000000  726.000000  726.000000  726.000000  726.000000   \n",
            "mean   6919.500000    0.290080    0.295508    0.283749    0.289721   \n",
            "std     209.722436    0.084015    0.082832    0.085657    0.084388   \n",
            "min    6557.000000    0.086777    0.099744    0.048550    0.075894   \n",
            "25%    6738.250000    0.238582    0.249344    0.230571    0.239423   \n",
            "50%    6919.500000    0.315679    0.320471    0.309681    0.315534   \n",
            "75%    7100.750000    0.353387    0.357743    0.346243    0.353366   \n",
            "max    7282.000000    0.444107    0.448918    0.441491    0.447367   \n",
            "\n",
            "        Adj Close      Volume  \n",
            "count  726.000000  726.000000  \n",
            "mean     0.289721    0.264235  \n",
            "std      0.084388    0.128671  \n",
            "min      0.075894    0.044839  \n",
            "25%      0.239423    0.186497  \n",
            "50%      0.315534    0.231436  \n",
            "75%      0.353366    0.296481  \n",
            "max      0.447367    1.235254  \n"
          ]
        }
      ]
    },
    {
      "cell_type": "markdown",
      "source": [
        "#### 1.5.2 Get data in the desired net format"
      ],
      "metadata": {
        "id": "WXLBbWE6mBGM"
      }
    },
    {
      "cell_type": "code",
      "source": [
        "x_test_df = test_x_df.drop(columns = ['Adj Close','High','Low','test_index','Date'])\n",
        "x_test_data = x_test_df.values"
      ],
      "metadata": {
        "id": "xpOxSS1qmBGM"
      },
      "execution_count": 43,
      "outputs": []
    },
    {
      "cell_type": "markdown",
      "source": [
        "Create the batches"
      ],
      "metadata": {
        "id": "Pu8-P8FsmBGM"
      }
    },
    {
      "cell_type": "code",
      "source": [
        "x_test, _ = prepare_batches (x_test_data)"
      ],
      "metadata": {
        "id": "m2jfkytSmBGM"
      },
      "execution_count": 44,
      "outputs": []
    },
    {
      "cell_type": "code",
      "source": [
        "print(x_test.shape)"
      ],
      "metadata": {
        "colab": {
          "base_uri": "https://localhost:8080/"
        },
        "id": "PcAfYWx5mBGM",
        "outputId": "50d5bd28-5408-452b-d2ed-4e4676837bcb"
      },
      "execution_count": 45,
      "outputs": [
        {
          "output_type": "stream",
          "name": "stdout",
          "text": [
            "(716, 10, 3)\n"
          ]
        }
      ]
    },
    {
      "cell_type": "markdown",
      "source": [
        "Convert to Tensors"
      ],
      "metadata": {
        "id": "24-q28TMmBGM"
      }
    },
    {
      "cell_type": "code",
      "source": [
        "x_test = torch.from_numpy(x_test).type(torch.Tensor)"
      ],
      "metadata": {
        "id": "1umPko7dmBGN"
      },
      "execution_count": 46,
      "outputs": []
    },
    {
      "cell_type": "markdown",
      "source": [
        "## 2 - Create the Neural Net"
      ],
      "metadata": {
        "id": "uFrnueky42r7"
      }
    },
    {
      "cell_type": "markdown",
      "source": [
        "I will use a Long Short-Term Memory net to predict considering the previous values (LSTM)"
      ],
      "metadata": {
        "id": "LoD-F_ue5LQ4"
      }
    },
    {
      "cell_type": "markdown",
      "source": [
        "I define the structure"
      ],
      "metadata": {
        "id": "vveBwag8HxEU"
      }
    },
    {
      "cell_type": "code",
      "source": [
        "input_dim = 3 # Open, close and Volume\n",
        "hidden_dim = 32\n",
        "num_layers = 2\n",
        "output_dim = 1"
      ],
      "metadata": {
        "id": "bzZswnqXHviQ"
      },
      "execution_count": 47,
      "outputs": []
    },
    {
      "cell_type": "markdown",
      "source": [
        "I define a class for the LSTM neural net"
      ],
      "metadata": {
        "id": "zyTXwusbIJLZ"
      }
    },
    {
      "cell_type": "code",
      "source": [
        "class My_LSTM(nn.Module):\n",
        "  def __init__(self, input_dim, hidden_dim, num_layers, output_dim):\n",
        "    super(My_LSTM,self).__init__()\n",
        "    self.hidden_dim = hidden_dim\n",
        "    self.num_layers = num_layers\n",
        "\n",
        "    # Object of the pythorch class LSTM\n",
        "    # Data will be provided as a batch\n",
        "    self.lstm = nn.LSTM(input_dim, hidden_dim, num_layers, batch_first=True)\n",
        "\n",
        "    # addition of a fully connected linear layer to the end\n",
        "    self.fc = nn.Linear(hidden_dim,output_dim)\n",
        "            \n",
        "    \n",
        "  def forward(self,x):\n",
        "    ''' Process when a tensor is introduced'''\n",
        "\n",
        "    #Creation 2 tensors of 0, with the size of the input data and the number of layers\n",
        "    # with the flag requires_grad or detach() to avoid a copy\n",
        "    # This tensors have the cell states and the hidden states\n",
        "    # cell state - memory of the network (start with no memory)\n",
        "    # hidden state - output at the previous point (start with previous state 0)\n",
        "    h0 = torch.zeros(self.num_layers, x.size(0), self.hidden_dim).requires_grad_()\n",
        "    c0 = torch.zeros(self.num_layers, x.size(0), self.hidden_dim).requires_grad_()\n",
        "\n",
        "    # provide the batch of data, the initial hidden state and the initial cell state\n",
        "    # to the LSTM net\n",
        "    out, (hn, cn) = self.lstm(x, (h0.detach(), c0.detach()))\n",
        "\n",
        "    #Connect the output of the LSTM to the fully connected linear\n",
        "    out = self.fc(out[:, -1, :])\n",
        "\n",
        "    return out\n",
        "\n"
      ],
      "metadata": {
        "id": "zIRFpjX05IGB"
      },
      "execution_count": 48,
      "outputs": []
    },
    {
      "cell_type": "markdown",
      "source": [
        "I create the net and define the loss function which will be used and the optimiser used to iteratively reduce the loss."
      ],
      "metadata": {
        "id": "nf6wko6iRAhG"
      }
    },
    {
      "cell_type": "code",
      "source": [
        "model = My_LSTM(input_dim=input_dim, hidden_dim=hidden_dim, output_dim=output_dim, num_layers=num_layers)\n",
        "\n",
        "# I use as loss function the Mean Square error.\n",
        "# The loss function will be, the sum of the output, divided by the number of elements in the output\n",
        "criterion = torch.nn.MSELoss(reduction='mean')\n",
        "\n",
        "# The optimiser use will be ADAM with a learning rate of 0.05\n",
        "optimiser = torch.optim.Adam(model.parameters(), lr=0.0025)"
      ],
      "metadata": {
        "id": "i8Mr37hUQ-Nl"
      },
      "execution_count": 49,
      "outputs": []
    },
    {
      "cell_type": "markdown",
      "source": [
        "## 3 Train the neural Net\n"
      ],
      "metadata": {
        "id": "bOWXcwbPVd40"
      }
    },
    {
      "cell_type": "code",
      "source": [
        "num_epochs = 1000"
      ],
      "metadata": {
        "id": "p49BCdkTrBTY"
      },
      "execution_count": 50,
      "outputs": []
    },
    {
      "cell_type": "code",
      "source": [
        "hist = np.zeros(num_epochs)\n",
        "start_time = time.time()\n",
        "times = []\n",
        "for t in range (num_epochs):\n",
        "  y_train_pred = model(x_train)\n",
        "  loss = criterion(y_train_pred,y_train)\n",
        "  #print(\"Epoch \", t, \"MSE: \", loss.item(),end=\"\\r\",flush=True)\n",
        "  print(\"Epoch \", t, \"MSE: \", loss.item())\n",
        "  hist[t] = loss.item()\n",
        "\n",
        "  optimiser.zero_grad()\n",
        "  loss.backward()\n",
        "  optimiser.step()\n",
        "\n",
        "  times.append(time.time()-start_time)\n",
        "\n",
        "training_time = time.time()-start_time\n",
        "print(\"Training time: {}\".format(training_time))"
      ],
      "metadata": {
        "colab": {
          "base_uri": "https://localhost:8080/"
        },
        "id": "gmdkDR8QVivA",
        "outputId": "c820a281-ce65-4888-8209-a0a8f098f42b"
      },
      "execution_count": 51,
      "outputs": [
        {
          "output_type": "stream",
          "name": "stderr",
          "text": [
            "/usr/local/lib/python3.7/dist-packages/torch/nn/modules/loss.py:529: UserWarning: Using a target size (torch.Size([3333, 10])) that is different to the input size (torch.Size([3333, 1])). This will likely lead to incorrect results due to broadcasting. Please ensure they have the same size.\n",
            "  return F.mse_loss(input, target, reduction=self.reduction)\n"
          ]
        },
        {
          "output_type": "stream",
          "name": "stdout",
          "text": [
            "Epoch  0 MSE:  0.8378267288208008\n",
            "Epoch  1 MSE:  0.7697059512138367\n",
            "Epoch  2 MSE:  0.7069297432899475\n",
            "Epoch  3 MSE:  0.6470879316329956\n",
            "Epoch  4 MSE:  0.5889090299606323\n",
            "Epoch  5 MSE:  0.5313461422920227\n",
            "Epoch  6 MSE:  0.47370392084121704\n",
            "Epoch  7 MSE:  0.41590210795402527\n",
            "Epoch  8 MSE:  0.35900670289993286\n",
            "Epoch  9 MSE:  0.30642855167388916\n",
            "Epoch  10 MSE:  0.26582881808280945\n",
            "Epoch  11 MSE:  0.25068607926368713\n",
            "Epoch  12 MSE:  0.27270805835723877\n",
            "Epoch  13 MSE:  0.30507028102874756\n",
            "Epoch  14 MSE:  0.3130077123641968\n",
            "Epoch  15 MSE:  0.29952654242515564\n",
            "Epoch  16 MSE:  0.2788260579109192\n",
            "Epoch  17 MSE:  0.26154109835624695\n",
            "Epoch  18 MSE:  0.25198379158973694\n",
            "Epoch  19 MSE:  0.24969446659088135\n",
            "Epoch  20 MSE:  0.2521005868911743\n",
            "Epoch  21 MSE:  0.2564948797225952\n",
            "Epoch  22 MSE:  0.26088976860046387\n",
            "Epoch  23 MSE:  0.2641317546367645\n",
            "Epoch  24 MSE:  0.265727698802948\n",
            "Epoch  25 MSE:  0.2656303346157074\n",
            "Epoch  26 MSE:  0.2640722393989563\n",
            "Epoch  27 MSE:  0.26145315170288086\n",
            "Epoch  28 MSE:  0.25826433300971985\n",
            "Epoch  29 MSE:  0.25502684712409973\n",
            "Epoch  30 MSE:  0.25222960114479065\n",
            "Epoch  31 MSE:  0.2502595782279968\n",
            "Epoch  32 MSE:  0.24933061003684998\n",
            "Epoch  33 MSE:  0.24942956864833832\n",
            "Epoch  34 MSE:  0.25030821561813354\n",
            "Epoch  35 MSE:  0.2515442371368408\n",
            "Epoch  36 MSE:  0.2526671290397644\n",
            "Epoch  37 MSE:  0.2533053159713745\n",
            "Epoch  38 MSE:  0.25329381227493286\n",
            "Epoch  39 MSE:  0.2526959180831909\n",
            "Epoch  40 MSE:  0.25174015760421753\n",
            "Epoch  41 MSE:  0.2507137358188629\n",
            "Epoch  42 MSE:  0.24986214935779572\n",
            "Epoch  43 MSE:  0.24932920932769775\n",
            "Epoch  44 MSE:  0.24914497137069702\n",
            "Epoch  45 MSE:  0.249248668551445\n",
            "Epoch  46 MSE:  0.24952815473079681\n",
            "Epoch  47 MSE:  0.24985948204994202\n",
            "Epoch  48 MSE:  0.25013697147369385\n",
            "Epoch  49 MSE:  0.25029104948043823\n",
            "Epoch  50 MSE:  0.2502939701080322\n",
            "Epoch  51 MSE:  0.2501572370529175\n",
            "Epoch  52 MSE:  0.2499217391014099\n",
            "Epoch  53 MSE:  0.24964503943920135\n",
            "Epoch  54 MSE:  0.24938660860061646\n",
            "Epoch  55 MSE:  0.24919460713863373\n",
            "Epoch  56 MSE:  0.24909590184688568\n",
            "Epoch  57 MSE:  0.24909159541130066\n",
            "Epoch  58 MSE:  0.2491590976715088\n",
            "Epoch  59 MSE:  0.2492607980966568\n",
            "Epoch  60 MSE:  0.2493557333946228\n",
            "Epoch  61 MSE:  0.24941159784793854\n",
            "Epoch  62 MSE:  0.2494129240512848\n",
            "Epoch  63 MSE:  0.24936293065547943\n",
            "Epoch  64 MSE:  0.24927957355976105\n",
            "Epoch  65 MSE:  0.24918751418590546\n",
            "Epoch  66 MSE:  0.24910981953144073\n",
            "Epoch  67 MSE:  0.24906134605407715\n",
            "Epoch  68 MSE:  0.24904626607894897\n",
            "Epoch  69 MSE:  0.24905894696712494\n",
            "Epoch  70 MSE:  0.24908742308616638\n",
            "Epoch  71 MSE:  0.2491178959608078\n",
            "Epoch  72 MSE:  0.24913887679576874\n",
            "Epoch  73 MSE:  0.2491437941789627\n",
            "Epoch  74 MSE:  0.2491316944360733\n",
            "Epoch  75 MSE:  0.24910685420036316\n",
            "Epoch  76 MSE:  0.24907635152339935\n",
            "Epoch  77 MSE:  0.24904796481132507\n",
            "Epoch  78 MSE:  0.24902768433094025\n",
            "Epoch  79 MSE:  0.24901831150054932\n",
            "Epoch  80 MSE:  0.24901916086673737\n",
            "Epoch  81 MSE:  0.2490265965461731\n",
            "Epoch  82 MSE:  0.2490357756614685\n",
            "Epoch  83 MSE:  0.24904218316078186\n",
            "Epoch  84 MSE:  0.24904295802116394\n",
            "Epoch  85 MSE:  0.24903753399848938\n",
            "Epoch  86 MSE:  0.2490275651216507\n",
            "Epoch  87 MSE:  0.24901579320430756\n",
            "Epoch  88 MSE:  0.24900515377521515\n",
            "Epoch  89 MSE:  0.24899771809577942\n",
            "Epoch  90 MSE:  0.24899426102638245\n",
            "Epoch  91 MSE:  0.2489941120147705\n",
            "Epoch  92 MSE:  0.248995840549469\n",
            "Epoch  93 MSE:  0.24899759888648987\n",
            "Epoch  94 MSE:  0.24899791181087494\n",
            "Epoch  95 MSE:  0.24899618327617645\n",
            "Epoch  96 MSE:  0.2489924430847168\n",
            "Epoch  97 MSE:  0.24898745119571686\n",
            "Epoch  98 MSE:  0.2489822953939438\n",
            "Epoch  99 MSE:  0.2489778995513916\n",
            "Epoch  100 MSE:  0.24897485971450806\n",
            "Epoch  101 MSE:  0.24897316098213196\n",
            "Epoch  102 MSE:  0.24897243082523346\n",
            "Epoch  103 MSE:  0.24897201359272003\n",
            "Epoch  104 MSE:  0.24897131323814392\n",
            "Epoch  105 MSE:  0.2489698827266693\n",
            "Epoch  106 MSE:  0.24896767735481262\n",
            "Epoch  107 MSE:  0.24896495044231415\n",
            "Epoch  108 MSE:  0.24896202981472015\n",
            "Epoch  109 MSE:  0.24895933270454407\n",
            "Epoch  110 MSE:  0.248957097530365\n",
            "Epoch  111 MSE:  0.2489553689956665\n",
            "Epoch  112 MSE:  0.24895408749580383\n",
            "Epoch  113 MSE:  0.24895291030406952\n",
            "Epoch  114 MSE:  0.24895168840885162\n",
            "Epoch  115 MSE:  0.24895024299621582\n",
            "Epoch  116 MSE:  0.24894848465919495\n",
            "Epoch  117 MSE:  0.24894650280475616\n",
            "Epoch  118 MSE:  0.2489444762468338\n",
            "Epoch  119 MSE:  0.2489425390958786\n",
            "Epoch  120 MSE:  0.24894078075885773\n",
            "Epoch  121 MSE:  0.24893926084041595\n",
            "Epoch  122 MSE:  0.24893786013126373\n",
            "Epoch  123 MSE:  0.2489364743232727\n",
            "Epoch  124 MSE:  0.24893510341644287\n",
            "Epoch  125 MSE:  0.24893362820148468\n",
            "Epoch  126 MSE:  0.24893207848072052\n",
            "Epoch  127 MSE:  0.2489304393529892\n",
            "Epoch  128 MSE:  0.24892880022525787\n",
            "Epoch  129 MSE:  0.2489272803068161\n",
            "Epoch  130 MSE:  0.24892574548721313\n",
            "Epoch  131 MSE:  0.24892431497573853\n",
            "Epoch  132 MSE:  0.2489229440689087\n",
            "Epoch  133 MSE:  0.24892158806324005\n",
            "Epoch  134 MSE:  0.24892021715641022\n",
            "Epoch  135 MSE:  0.2489188313484192\n",
            "Epoch  136 MSE:  0.24891740083694458\n",
            "Epoch  137 MSE:  0.24891594052314758\n",
            "Epoch  138 MSE:  0.24891452491283417\n",
            "Epoch  139 MSE:  0.24891312420368195\n",
            "Epoch  140 MSE:  0.2489117532968521\n",
            "Epoch  141 MSE:  0.24891042709350586\n",
            "Epoch  142 MSE:  0.2489091455936432\n",
            "Epoch  143 MSE:  0.24890781939029694\n",
            "Epoch  144 MSE:  0.2489064782857895\n",
            "Epoch  145 MSE:  0.24890518188476562\n",
            "Epoch  146 MSE:  0.24890387058258057\n",
            "Epoch  147 MSE:  0.24890254437923431\n",
            "Epoch  148 MSE:  0.24890123307704926\n",
            "Epoch  149 MSE:  0.248899906873703\n",
            "Epoch  150 MSE:  0.24889862537384033\n",
            "Epoch  151 MSE:  0.24889738857746124\n",
            "Epoch  152 MSE:  0.24889613687992096\n",
            "Epoch  153 MSE:  0.24889487028121948\n",
            "Epoch  154 MSE:  0.2488936334848404\n",
            "Epoch  155 MSE:  0.2488924115896225\n",
            "Epoch  156 MSE:  0.24889114499092102\n",
            "Epoch  157 MSE:  0.24888989329338074\n",
            "Epoch  158 MSE:  0.24888865649700165\n",
            "Epoch  159 MSE:  0.24888746440410614\n",
            "Epoch  160 MSE:  0.24888622760772705\n",
            "Epoch  161 MSE:  0.24888502061367035\n",
            "Epoch  162 MSE:  0.24888382852077484\n",
            "Epoch  163 MSE:  0.24888262152671814\n",
            "Epoch  164 MSE:  0.24888141453266144\n",
            "Epoch  165 MSE:  0.24888022243976593\n",
            "Epoch  166 MSE:  0.24887904524803162\n",
            "Epoch  167 MSE:  0.2488778829574585\n",
            "Epoch  168 MSE:  0.2488766759634018\n",
            "Epoch  169 MSE:  0.24887552857398987\n",
            "Epoch  170 MSE:  0.24887436628341675\n",
            "Epoch  171 MSE:  0.24887318909168243\n",
            "Epoch  172 MSE:  0.2488720417022705\n",
            "Epoch  173 MSE:  0.2488708794116974\n",
            "Epoch  174 MSE:  0.24886970221996307\n",
            "Epoch  175 MSE:  0.24886855483055115\n",
            "Epoch  176 MSE:  0.24886742234230042\n",
            "Epoch  177 MSE:  0.2488662749528885\n",
            "Epoch  178 MSE:  0.24886512756347656\n",
            "Epoch  179 MSE:  0.24886399507522583\n",
            "Epoch  180 MSE:  0.2488628774881363\n",
            "Epoch  181 MSE:  0.24886170029640198\n",
            "Epoch  182 MSE:  0.24886058270931244\n",
            "Epoch  183 MSE:  0.2488594800233841\n",
            "Epoch  184 MSE:  0.24885833263397217\n",
            "Epoch  185 MSE:  0.24885718524456024\n",
            "Epoch  186 MSE:  0.2488560825586319\n",
            "Epoch  187 MSE:  0.24885493516921997\n",
            "Epoch  188 MSE:  0.24885381758213043\n",
            "Epoch  189 MSE:  0.2488527148962021\n",
            "Epoch  190 MSE:  0.24885162711143494\n",
            "Epoch  191 MSE:  0.248850479722023\n",
            "Epoch  192 MSE:  0.24884936213493347\n",
            "Epoch  193 MSE:  0.24884822964668274\n",
            "Epoch  194 MSE:  0.2488471418619156\n",
            "Epoch  195 MSE:  0.24884599447250366\n",
            "Epoch  196 MSE:  0.2488449066877365\n",
            "Epoch  197 MSE:  0.24884383380413055\n",
            "Epoch  198 MSE:  0.24884268641471863\n",
            "Epoch  199 MSE:  0.2488415688276291\n",
            "Epoch  200 MSE:  0.24884046614170074\n",
            "Epoch  201 MSE:  0.2488393485546112\n",
            "Epoch  202 MSE:  0.24883823096752167\n",
            "Epoch  203 MSE:  0.24883711338043213\n",
            "Epoch  204 MSE:  0.24883601069450378\n",
            "Epoch  205 MSE:  0.24883486330509186\n",
            "Epoch  206 MSE:  0.2488337755203247\n",
            "Epoch  207 MSE:  0.24883264303207397\n",
            "Epoch  208 MSE:  0.24883152544498444\n",
            "Epoch  209 MSE:  0.2488304078578949\n",
            "Epoch  210 MSE:  0.24882929027080536\n",
            "Epoch  211 MSE:  0.24882815778255463\n",
            "Epoch  212 MSE:  0.2488270401954651\n",
            "Epoch  213 MSE:  0.24882589280605316\n",
            "Epoch  214 MSE:  0.2488248199224472\n",
            "Epoch  215 MSE:  0.24882367253303528\n",
            "Epoch  216 MSE:  0.24882252514362335\n",
            "Epoch  217 MSE:  0.248821422457695\n",
            "Epoch  218 MSE:  0.24882027506828308\n",
            "Epoch  219 MSE:  0.24881912767887115\n",
            "Epoch  220 MSE:  0.24881798028945923\n",
            "Epoch  221 MSE:  0.2488168478012085\n",
            "Epoch  222 MSE:  0.24881570041179657\n",
            "Epoch  223 MSE:  0.24881452322006226\n",
            "Epoch  224 MSE:  0.2488134205341339\n",
            "Epoch  225 MSE:  0.24881227314472198\n",
            "Epoch  226 MSE:  0.24881109595298767\n",
            "Epoch  227 MSE:  0.24880996346473694\n",
            "Epoch  228 MSE:  0.24880878627300262\n",
            "Epoch  229 MSE:  0.24880757927894592\n",
            "Epoch  230 MSE:  0.2488064467906952\n",
            "Epoch  231 MSE:  0.24880526959896088\n",
            "Epoch  232 MSE:  0.24880406260490417\n",
            "Epoch  233 MSE:  0.24880290031433105\n",
            "Epoch  234 MSE:  0.24880169332027435\n",
            "Epoch  235 MSE:  0.24880050122737885\n",
            "Epoch  236 MSE:  0.24879935383796692\n",
            "Epoch  237 MSE:  0.24879811704158783\n",
            "Epoch  238 MSE:  0.24879689514636993\n",
            "Epoch  239 MSE:  0.24879571795463562\n",
            "Epoch  240 MSE:  0.24879449605941772\n",
            "Epoch  241 MSE:  0.24879328906536102\n",
            "Epoch  242 MSE:  0.24879202246665955\n",
            "Epoch  243 MSE:  0.24879080057144165\n",
            "Epoch  244 MSE:  0.24878959357738495\n",
            "Epoch  245 MSE:  0.24878834187984467\n",
            "Epoch  246 MSE:  0.24878710508346558\n",
            "Epoch  247 MSE:  0.2487858384847641\n",
            "Epoch  248 MSE:  0.2487846165895462\n",
            "Epoch  249 MSE:  0.24878329038619995\n",
            "Epoch  250 MSE:  0.24878203868865967\n",
            "Epoch  251 MSE:  0.2487807720899582\n",
            "Epoch  252 MSE:  0.24877949059009552\n",
            "Epoch  253 MSE:  0.24877816438674927\n",
            "Epoch  254 MSE:  0.2487768828868866\n",
            "Epoch  255 MSE:  0.24877555668354034\n",
            "Epoch  256 MSE:  0.24877427518367767\n",
            "Epoch  257 MSE:  0.2487729787826538\n",
            "Epoch  258 MSE:  0.24877163767814636\n",
            "Epoch  259 MSE:  0.24877028167247772\n",
            "Epoch  260 MSE:  0.24876897037029266\n",
            "Epoch  261 MSE:  0.24876758456230164\n",
            "Epoch  262 MSE:  0.2487662136554718\n",
            "Epoch  263 MSE:  0.24876484274864197\n",
            "Epoch  264 MSE:  0.24876348674297333\n",
            "Epoch  265 MSE:  0.2487620860338211\n",
            "Epoch  266 MSE:  0.24876070022583008\n",
            "Epoch  267 MSE:  0.24875929951667786\n",
            "Epoch  268 MSE:  0.24875789880752563\n",
            "Epoch  269 MSE:  0.24875648319721222\n",
            "Epoch  270 MSE:  0.2487550526857376\n",
            "Epoch  271 MSE:  0.2487535923719406\n",
            "Epoch  272 MSE:  0.2487521469593048\n",
            "Epoch  273 MSE:  0.2487506866455078\n",
            "Epoch  274 MSE:  0.24874922633171082\n",
            "Epoch  275 MSE:  0.24874772131443024\n",
            "Epoch  276 MSE:  0.24874626100063324\n",
            "Epoch  277 MSE:  0.24874474108219147\n",
            "Epoch  278 MSE:  0.2487432211637497\n",
            "Epoch  279 MSE:  0.24874168634414673\n",
            "Epoch  280 MSE:  0.24874016642570496\n",
            "Epoch  281 MSE:  0.2487385869026184\n",
            "Epoch  282 MSE:  0.24873706698417664\n",
            "Epoch  283 MSE:  0.2487354725599289\n",
            "Epoch  284 MSE:  0.24873389303684235\n",
            "Epoch  285 MSE:  0.2487323135137558\n",
            "Epoch  286 MSE:  0.24873067438602448\n",
            "Epoch  287 MSE:  0.24872903525829315\n",
            "Epoch  288 MSE:  0.24872742593288422\n",
            "Epoch  289 MSE:  0.2487257570028305\n",
            "Epoch  290 MSE:  0.24872411787509918\n",
            "Epoch  291 MSE:  0.24872243404388428\n",
            "Epoch  292 MSE:  0.2487207055091858\n",
            "Epoch  293 MSE:  0.2487190067768097\n",
            "Epoch  294 MSE:  0.2487172782421112\n",
            "Epoch  295 MSE:  0.24871551990509033\n",
            "Epoch  296 MSE:  0.24871379137039185\n",
            "Epoch  297 MSE:  0.24871203303337097\n",
            "Epoch  298 MSE:  0.2487102448940277\n",
            "Epoch  299 MSE:  0.24870844185352325\n",
            "Epoch  300 MSE:  0.24870659410953522\n",
            "Epoch  301 MSE:  0.24870477616786957\n",
            "Epoch  302 MSE:  0.24870289862155914\n",
            "Epoch  303 MSE:  0.24870102107524872\n",
            "Epoch  304 MSE:  0.2486991435289383\n",
            "Epoch  305 MSE:  0.24869723618030548\n",
            "Epoch  306 MSE:  0.24869531393051147\n",
            "Epoch  307 MSE:  0.24869340658187866\n",
            "Epoch  308 MSE:  0.2486913800239563\n",
            "Epoch  309 MSE:  0.2486894130706787\n",
            "Epoch  310 MSE:  0.24868740141391754\n",
            "Epoch  311 MSE:  0.2486853450536728\n",
            "Epoch  312 MSE:  0.24868331849575043\n",
            "Epoch  313 MSE:  0.24868124723434448\n",
            "Epoch  314 MSE:  0.24867913126945496\n",
            "Epoch  315 MSE:  0.24867700040340424\n",
            "Epoch  316 MSE:  0.24867485463619232\n",
            "Epoch  317 MSE:  0.2486727237701416\n",
            "Epoch  318 MSE:  0.2486705183982849\n",
            "Epoch  319 MSE:  0.24866829812526703\n",
            "Epoch  320 MSE:  0.24866609275341034\n",
            "Epoch  321 MSE:  0.24866384267807007\n",
            "Epoch  322 MSE:  0.24866153299808502\n",
            "Epoch  323 MSE:  0.24865920841693878\n",
            "Epoch  324 MSE:  0.24865686893463135\n",
            "Epoch  325 MSE:  0.2486545294523239\n",
            "Epoch  326 MSE:  0.2486521154642105\n",
            "Epoch  327 MSE:  0.2486496865749359\n",
            "Epoch  328 MSE:  0.24864722788333893\n",
            "Epoch  329 MSE:  0.24864473938941956\n",
            "Epoch  330 MSE:  0.2486422210931778\n",
            "Epoch  331 MSE:  0.24863967299461365\n",
            "Epoch  332 MSE:  0.2486370950937271\n",
            "Epoch  333 MSE:  0.2486344575881958\n",
            "Epoch  334 MSE:  0.2486318200826645\n",
            "Epoch  335 MSE:  0.2486291527748108\n",
            "Epoch  336 MSE:  0.24862642586231232\n",
            "Epoch  337 MSE:  0.24862366914749146\n",
            "Epoch  338 MSE:  0.2486208826303482\n",
            "Epoch  339 MSE:  0.24861805140972137\n",
            "Epoch  340 MSE:  0.24861520528793335\n",
            "Epoch  341 MSE:  0.24861226975917816\n",
            "Epoch  342 MSE:  0.24860931932926178\n",
            "Epoch  343 MSE:  0.24860632419586182\n",
            "Epoch  344 MSE:  0.24860334396362305\n",
            "Epoch  345 MSE:  0.24860022962093353\n",
            "Epoch  346 MSE:  0.2485971599817276\n",
            "Epoch  347 MSE:  0.2485939860343933\n",
            "Epoch  348 MSE:  0.24859079718589783\n",
            "Epoch  349 MSE:  0.24858751893043518\n",
            "Epoch  350 MSE:  0.24858424067497253\n",
            "Epoch  351 MSE:  0.24858088791370392\n",
            "Epoch  352 MSE:  0.24857749044895172\n",
            "Epoch  353 MSE:  0.24857403337955475\n",
            "Epoch  354 MSE:  0.2485704869031906\n",
            "Epoch  355 MSE:  0.24856694042682648\n",
            "Epoch  356 MSE:  0.24856334924697876\n",
            "Epoch  357 MSE:  0.24855965375900269\n",
            "Epoch  358 MSE:  0.24855592846870422\n",
            "Epoch  359 MSE:  0.2485521137714386\n",
            "Epoch  360 MSE:  0.24854828417301178\n",
            "Epoch  361 MSE:  0.2485443502664566\n",
            "Epoch  362 MSE:  0.24854037165641785\n",
            "Epoch  363 MSE:  0.24853633344173431\n",
            "Epoch  364 MSE:  0.24853219091892242\n",
            "Epoch  365 MSE:  0.24852800369262695\n",
            "Epoch  366 MSE:  0.24852369725704193\n",
            "Epoch  367 MSE:  0.2485193908214569\n",
            "Epoch  368 MSE:  0.24851496517658234\n",
            "Epoch  369 MSE:  0.248510479927063\n",
            "Epoch  370 MSE:  0.24850589036941528\n",
            "Epoch  371 MSE:  0.2485012263059616\n",
            "Epoch  372 MSE:  0.24849650263786316\n",
            "Epoch  373 MSE:  0.24849164485931396\n",
            "Epoch  374 MSE:  0.24848672747612\n",
            "Epoch  375 MSE:  0.24848173558712006\n",
            "Epoch  376 MSE:  0.24847657978534698\n",
            "Epoch  377 MSE:  0.24847133457660675\n",
            "Epoch  378 MSE:  0.24846604466438293\n",
            "Epoch  379 MSE:  0.248460590839386\n",
            "Epoch  380 MSE:  0.24845504760742188\n",
            "Epoch  381 MSE:  0.2484494000673294\n",
            "Epoch  382 MSE:  0.24844364821910858\n",
            "Epoch  383 MSE:  0.24843773245811462\n",
            "Epoch  384 MSE:  0.2484317272901535\n",
            "Epoch  385 MSE:  0.24842557311058044\n",
            "Epoch  386 MSE:  0.24841929972171783\n",
            "Epoch  387 MSE:  0.24841289222240448\n",
            "Epoch  388 MSE:  0.248406320810318\n",
            "Epoch  389 MSE:  0.24839958548545837\n",
            "Epoch  390 MSE:  0.2483927607536316\n",
            "Epoch  391 MSE:  0.24838575720787048\n",
            "Epoch  392 MSE:  0.24837854504585266\n",
            "Epoch  393 MSE:  0.2483711987733841\n",
            "Epoch  394 MSE:  0.2483636885881424\n",
            "Epoch  395 MSE:  0.24835598468780518\n",
            "Epoch  396 MSE:  0.24834807217121124\n",
            "Epoch  397 MSE:  0.2483399659395218\n",
            "Epoch  398 MSE:  0.24833163619041443\n",
            "Epoch  399 MSE:  0.24832314252853394\n",
            "Epoch  400 MSE:  0.24831438064575195\n",
            "Epoch  401 MSE:  0.24830541014671326\n",
            "Epoch  402 MSE:  0.24829618632793427\n",
            "Epoch  403 MSE:  0.24828672409057617\n",
            "Epoch  404 MSE:  0.2482769936323166\n",
            "Epoch  405 MSE:  0.24826698005199432\n",
            "Epoch  406 MSE:  0.24825666844844818\n",
            "Epoch  407 MSE:  0.24824608862400055\n",
            "Epoch  408 MSE:  0.24823515117168427\n",
            "Epoch  409 MSE:  0.24822387099266052\n",
            "Epoch  410 MSE:  0.2482123076915741\n",
            "Epoch  411 MSE:  0.24820031225681305\n",
            "Epoch  412 MSE:  0.24818801879882812\n",
            "Epoch  413 MSE:  0.2481752634048462\n",
            "Epoch  414 MSE:  0.24816210567951202\n",
            "Epoch  415 MSE:  0.24814851582050323\n",
            "Epoch  416 MSE:  0.24813441932201385\n",
            "Epoch  417 MSE:  0.24811986088752747\n",
            "Epoch  418 MSE:  0.24810479581356049\n",
            "Epoch  419 MSE:  0.24808914959430695\n",
            "Epoch  420 MSE:  0.24807295203208923\n",
            "Epoch  421 MSE:  0.24805612862110138\n",
            "Epoch  422 MSE:  0.2480386197566986\n",
            "Epoch  423 MSE:  0.24802044034004211\n",
            "Epoch  424 MSE:  0.24800154566764832\n",
            "Epoch  425 MSE:  0.24798189103603363\n",
            "Epoch  426 MSE:  0.2479613721370697\n",
            "Epoch  427 MSE:  0.24793995916843414\n",
            "Epoch  428 MSE:  0.24791763722896576\n",
            "Epoch  429 MSE:  0.247894287109375\n",
            "Epoch  430 MSE:  0.24786987900733948\n",
            "Epoch  431 MSE:  0.24784435331821442\n",
            "Epoch  432 MSE:  0.24781757593154907\n",
            "Epoch  433 MSE:  0.24778947234153748\n",
            "Epoch  434 MSE:  0.24776002764701843\n",
            "Epoch  435 MSE:  0.24772903323173523\n",
            "Epoch  436 MSE:  0.2476964145898819\n",
            "Epoch  437 MSE:  0.24766214191913605\n",
            "Epoch  438 MSE:  0.24762597680091858\n",
            "Epoch  439 MSE:  0.24758782982826233\n",
            "Epoch  440 MSE:  0.2475476711988449\n",
            "Epoch  441 MSE:  0.24750517308712006\n",
            "Epoch  442 MSE:  0.2474602609872818\n",
            "Epoch  443 MSE:  0.24741283059120178\n",
            "Epoch  444 MSE:  0.2473626732826233\n",
            "Epoch  445 MSE:  0.2473096400499344\n",
            "Epoch  446 MSE:  0.24725349247455597\n",
            "Epoch  447 MSE:  0.24719412624835968\n",
            "Epoch  448 MSE:  0.2471313774585724\n",
            "Epoch  449 MSE:  0.24706506729125977\n",
            "Epoch  450 MSE:  0.24699507653713226\n",
            "Epoch  451 MSE:  0.24692124128341675\n",
            "Epoch  452 MSE:  0.24684344232082367\n",
            "Epoch  453 MSE:  0.24676163494586945\n",
            "Epoch  454 MSE:  0.24667581915855408\n",
            "Epoch  455 MSE:  0.2465859353542328\n",
            "Epoch  456 MSE:  0.24649208784103394\n",
            "Epoch  457 MSE:  0.24639436602592468\n",
            "Epoch  458 MSE:  0.24629290401935577\n",
            "Epoch  459 MSE:  0.24618792533874512\n",
            "Epoch  460 MSE:  0.2460794448852539\n",
            "Epoch  461 MSE:  0.24596770107746124\n",
            "Epoch  462 MSE:  0.2458525002002716\n",
            "Epoch  463 MSE:  0.24573351442813873\n",
            "Epoch  464 MSE:  0.2456100434064865\n",
            "Epoch  465 MSE:  0.24548108875751495\n",
            "Epoch  466 MSE:  0.24534516036510468\n",
            "Epoch  467 MSE:  0.2452004849910736\n",
            "Epoch  468 MSE:  0.24504536390304565\n",
            "Epoch  469 MSE:  0.2448783963918686\n",
            "Epoch  470 MSE:  0.24469897150993347\n",
            "Epoch  471 MSE:  0.24450701475143433\n",
            "Epoch  472 MSE:  0.24430306255817413\n",
            "Epoch  473 MSE:  0.24410611391067505\n",
            "Epoch  474 MSE:  0.24456970393657684\n",
            "Epoch  475 MSE:  0.2530260384082794\n",
            "Epoch  476 MSE:  0.25302842259407043\n",
            "Epoch  477 MSE:  0.24454526603221893\n",
            "Epoch  478 MSE:  0.2514697313308716\n",
            "Epoch  479 MSE:  0.24427399039268494\n",
            "Epoch  480 MSE:  0.24884644150733948\n",
            "Epoch  481 MSE:  0.24533380568027496\n",
            "Epoch  482 MSE:  0.24577006697654724\n",
            "Epoch  483 MSE:  0.24678388237953186\n",
            "Epoch  484 MSE:  0.24374639987945557\n",
            "Epoch  485 MSE:  0.24667640030384064\n",
            "Epoch  486 MSE:  0.24427704513072968\n",
            "Epoch  487 MSE:  0.24462638795375824\n",
            "Epoch  488 MSE:  0.24556481838226318\n",
            "Epoch  489 MSE:  0.24359871447086334\n",
            "Epoch  490 MSE:  0.2448829859495163\n",
            "Epoch  491 MSE:  0.2444632649421692\n",
            "Epoch  492 MSE:  0.24352926015853882\n",
            "Epoch  493 MSE:  0.24460434913635254\n",
            "Epoch  494 MSE:  0.24364358186721802\n",
            "Epoch  495 MSE:  0.24355308711528778\n",
            "Epoch  496 MSE:  0.2440507709980011\n",
            "Epoch  497 MSE:  0.2430747151374817\n",
            "Epoch  498 MSE:  0.2435222715139389\n",
            "Epoch  499 MSE:  0.2432771772146225\n",
            "Epoch  500 MSE:  0.24280978739261627\n",
            "Epoch  501 MSE:  0.24323977530002594\n",
            "Epoch  502 MSE:  0.24253398180007935\n",
            "Epoch  503 MSE:  0.24279743432998657\n",
            "Epoch  504 MSE:  0.24246856570243835\n",
            "Epoch  505 MSE:  0.2423173487186432\n",
            "Epoch  506 MSE:  0.2423354834318161\n",
            "Epoch  507 MSE:  0.24193373322486877\n",
            "Epoch  508 MSE:  0.2420758754014969\n",
            "Epoch  509 MSE:  0.24161820113658905\n",
            "Epoch  510 MSE:  0.24175310134887695\n",
            "Epoch  511 MSE:  0.24131439626216888\n",
            "Epoch  512 MSE:  0.24136807024478912\n",
            "Epoch  513 MSE:  0.24102729558944702\n",
            "Epoch  514 MSE:  0.2409059703350067\n",
            "Epoch  515 MSE:  0.2407725304365158\n",
            "Epoch  516 MSE:  0.24039222300052643\n",
            "Epoch  517 MSE:  0.2404196709394455\n",
            "Epoch  518 MSE:  0.24008263647556305\n",
            "Epoch  519 MSE:  0.2397765815258026\n",
            "Epoch  520 MSE:  0.23975786566734314\n",
            "Epoch  521 MSE:  0.23958460986614227\n",
            "Epoch  522 MSE:  0.23922359943389893\n",
            "Epoch  523 MSE:  0.23887386918067932\n",
            "Epoch  524 MSE:  0.23859365284442902\n",
            "Epoch  525 MSE:  0.23836170136928558\n",
            "Epoch  526 MSE:  0.23826256394386292\n",
            "Epoch  527 MSE:  0.23919327557086945\n",
            "Epoch  528 MSE:  0.2490522712469101\n",
            "Epoch  529 MSE:  0.2922360599040985\n",
            "Epoch  530 MSE:  0.2608626186847687\n",
            "Epoch  531 MSE:  0.24865280091762543\n",
            "Epoch  532 MSE:  0.2522880733013153\n",
            "Epoch  533 MSE:  0.25215238332748413\n",
            "Epoch  534 MSE:  0.24014858901500702\n",
            "Epoch  535 MSE:  0.2518078088760376\n",
            "Epoch  536 MSE:  0.24526125192642212\n",
            "Epoch  537 MSE:  0.24120402336120605\n",
            "Epoch  538 MSE:  0.24709047377109528\n",
            "Epoch  539 MSE:  0.24659182131290436\n",
            "Epoch  540 MSE:  0.24203930795192719\n",
            "Epoch  541 MSE:  0.24273188412189484\n",
            "Epoch  542 MSE:  0.245644211769104\n",
            "Epoch  543 MSE:  0.24457286298274994\n",
            "Epoch  544 MSE:  0.2420247197151184\n",
            "Epoch  545 MSE:  0.24232062697410583\n",
            "Epoch  546 MSE:  0.24393123388290405\n",
            "Epoch  547 MSE:  0.24358277022838593\n",
            "Epoch  548 MSE:  0.24187494814395905\n",
            "Epoch  549 MSE:  0.24150493741035461\n",
            "Epoch  550 MSE:  0.24250438809394836\n",
            "Epoch  551 MSE:  0.24256640672683716\n",
            "Epoch  552 MSE:  0.24138371646404266\n",
            "Epoch  553 MSE:  0.24091623723506927\n",
            "Epoch  554 MSE:  0.24157024919986725\n",
            "Epoch  555 MSE:  0.24170105159282684\n",
            "Epoch  556 MSE:  0.24086812138557434\n",
            "Epoch  557 MSE:  0.24049803614616394\n",
            "Epoch  558 MSE:  0.24096523225307465\n",
            "Epoch  559 MSE:  0.24094384908676147\n",
            "Epoch  560 MSE:  0.24027958512306213\n",
            "Epoch  561 MSE:  0.2401912659406662\n",
            "Epoch  562 MSE:  0.2405194789171219\n",
            "Epoch  563 MSE:  0.24022512137889862\n",
            "Epoch  564 MSE:  0.23976847529411316\n",
            "Epoch  565 MSE:  0.23991507291793823\n",
            "Epoch  566 MSE:  0.23993253707885742\n",
            "Epoch  567 MSE:  0.23948808014392853\n",
            "Epoch  568 MSE:  0.23941071331501007\n",
            "Epoch  569 MSE:  0.23950542509555817\n",
            "Epoch  570 MSE:  0.23916827142238617\n",
            "Epoch  571 MSE:  0.23897504806518555\n",
            "Epoch  572 MSE:  0.2390432357788086\n",
            "Epoch  573 MSE:  0.23877118527889252\n",
            "Epoch  574 MSE:  0.23855945467948914\n",
            "Epoch  575 MSE:  0.2385774850845337\n",
            "Epoch  576 MSE:  0.23831814527511597\n",
            "Epoch  577 MSE:  0.23813410103321075\n",
            "Epoch  578 MSE:  0.2381008118391037\n",
            "Epoch  579 MSE:  0.23782634735107422\n",
            "Epoch  580 MSE:  0.23770157992839813\n",
            "Epoch  581 MSE:  0.23758846521377563\n",
            "Epoch  582 MSE:  0.23732635378837585\n",
            "Epoch  583 MSE:  0.23724864423274994\n",
            "Epoch  584 MSE:  0.23702749609947205\n",
            "Epoch  585 MSE:  0.23685699701309204\n",
            "Epoch  586 MSE:  0.23671892285346985\n",
            "Epoch  587 MSE:  0.23648247122764587\n",
            "Epoch  588 MSE:  0.23637142777442932\n",
            "Epoch  589 MSE:  0.23612463474273682\n",
            "Epoch  590 MSE:  0.2360016256570816\n",
            "Epoch  591 MSE:  0.23576200008392334\n",
            "Epoch  592 MSE:  0.23562602698802948\n",
            "Epoch  593 MSE:  0.23538541793823242\n",
            "Epoch  594 MSE:  0.2352403998374939\n",
            "Epoch  595 MSE:  0.23499785363674164\n",
            "Epoch  596 MSE:  0.2348368763923645\n",
            "Epoch  597 MSE:  0.23461569845676422\n",
            "Epoch  598 MSE:  0.23440197110176086\n",
            "Epoch  599 MSE:  0.2342318892478943\n",
            "Epoch  600 MSE:  0.2339939922094345\n",
            "Epoch  601 MSE:  0.23377801477909088\n",
            "Epoch  602 MSE:  0.23360377550125122\n",
            "Epoch  603 MSE:  0.23340538144111633\n",
            "Epoch  604 MSE:  0.23318062722682953\n",
            "Epoch  605 MSE:  0.23295098543167114\n",
            "Epoch  606 MSE:  0.2327323704957962\n",
            "Epoch  607 MSE:  0.23253276944160461\n",
            "Epoch  608 MSE:  0.23243065178394318\n",
            "Epoch  609 MSE:  0.23296764492988586\n",
            "Epoch  610 MSE:  0.23867590725421906\n",
            "Epoch  611 MSE:  0.2843216061592102\n",
            "Epoch  612 MSE:  0.3533439338207245\n",
            "Epoch  613 MSE:  0.2586473822593689\n",
            "Epoch  614 MSE:  0.284822940826416\n",
            "Epoch  615 MSE:  0.23531505465507507\n",
            "Epoch  616 MSE:  0.2646597921848297\n",
            "Epoch  617 MSE:  0.2589171826839447\n",
            "Epoch  618 MSE:  0.23975792527198792\n",
            "Epoch  619 MSE:  0.24486151337623596\n",
            "Epoch  620 MSE:  0.25397735834121704\n",
            "Epoch  621 MSE:  0.2514117956161499\n",
            "Epoch  622 MSE:  0.24379287660121918\n",
            "Epoch  623 MSE:  0.24118219316005707\n",
            "Epoch  624 MSE:  0.2444564551115036\n",
            "Epoch  625 MSE:  0.24800463020801544\n",
            "Epoch  626 MSE:  0.24784080684185028\n",
            "Epoch  627 MSE:  0.2449774146080017\n",
            "Epoch  628 MSE:  0.24263332784175873\n",
            "Epoch  629 MSE:  0.2424929440021515\n",
            "Epoch  630 MSE:  0.24383367598056793\n",
            "Epoch  631 MSE:  0.24494920670986176\n",
            "Epoch  632 MSE:  0.24477063119411469\n",
            "Epoch  633 MSE:  0.24348127841949463\n",
            "Epoch  634 MSE:  0.2420796900987625\n",
            "Epoch  635 MSE:  0.24147021770477295\n",
            "Epoch  636 MSE:  0.241784006357193\n",
            "Epoch  637 MSE:  0.242384135723114\n",
            "Epoch  638 MSE:  0.24249617755413055\n",
            "Epoch  639 MSE:  0.24189244210720062\n",
            "Epoch  640 MSE:  0.24101556837558746\n",
            "Epoch  641 MSE:  0.24048945307731628\n",
            "Epoch  642 MSE:  0.2405429184436798\n",
            "Epoch  643 MSE:  0.24087093770503998\n",
            "Epoch  644 MSE:  0.24098291993141174\n",
            "Epoch  645 MSE:  0.24066273868083954\n",
            "Epoch  646 MSE:  0.24012668430805206\n",
            "Epoch  647 MSE:  0.2397705763578415\n",
            "Epoch  648 MSE:  0.2397710233926773\n",
            "Epoch  649 MSE:  0.23993238806724548\n",
            "Epoch  650 MSE:  0.2399233728647232\n",
            "Epoch  651 MSE:  0.2396388053894043\n",
            "Epoch  652 MSE:  0.23928602039813995\n",
            "Epoch  653 MSE:  0.23912054300308228\n",
            "Epoch  654 MSE:  0.23915711045265198\n",
            "Epoch  655 MSE:  0.23918330669403076\n",
            "Epoch  656 MSE:  0.23902828991413116\n",
            "Epoch  657 MSE:  0.2387542724609375\n",
            "Epoch  658 MSE:  0.238556906580925\n",
            "Epoch  659 MSE:  0.2385154366493225\n",
            "Epoch  660 MSE:  0.2385077178478241\n",
            "Epoch  661 MSE:  0.23838762938976288\n",
            "Epoch  662 MSE:  0.238178089261055\n",
            "Epoch  663 MSE:  0.23802150785923004\n",
            "Epoch  664 MSE:  0.23797304928302765\n",
            "Epoch  665 MSE:  0.23793385922908783\n",
            "Epoch  666 MSE:  0.23780587315559387\n",
            "Epoch  667 MSE:  0.237630233168602\n",
            "Epoch  668 MSE:  0.23751121759414673\n",
            "Epoch  669 MSE:  0.23745444416999817\n",
            "Epoch  670 MSE:  0.2373693585395813\n",
            "Epoch  671 MSE:  0.23721975088119507\n",
            "Epoch  672 MSE:  0.237074077129364\n",
            "Epoch  673 MSE:  0.23698309063911438\n",
            "Epoch  674 MSE:  0.23689937591552734\n",
            "Epoch  675 MSE:  0.23676753044128418\n",
            "Epoch  676 MSE:  0.23661813139915466\n",
            "Epoch  677 MSE:  0.236504927277565\n",
            "Epoch  678 MSE:  0.23640817403793335\n",
            "Epoch  679 MSE:  0.2362789660692215\n",
            "Epoch  680 MSE:  0.23613214492797852\n",
            "Epoch  681 MSE:  0.23601126670837402\n",
            "Epoch  682 MSE:  0.2359028160572052\n",
            "Epoch  683 MSE:  0.2357688993215561\n",
            "Epoch  684 MSE:  0.23562443256378174\n",
            "Epoch  685 MSE:  0.23550128936767578\n",
            "Epoch  686 MSE:  0.2353813350200653\n",
            "Epoch  687 MSE:  0.23524054884910583\n",
            "Epoch  688 MSE:  0.2351011037826538\n",
            "Epoch  689 MSE:  0.23497778177261353\n",
            "Epoch  690 MSE:  0.23484593629837036\n",
            "Epoch  691 MSE:  0.23470163345336914\n",
            "Epoch  692 MSE:  0.23456835746765137\n",
            "Epoch  693 MSE:  0.2344386875629425\n",
            "Epoch  694 MSE:  0.23429587483406067\n",
            "Epoch  695 MSE:  0.23415622115135193\n",
            "Epoch  696 MSE:  0.23402418196201324\n",
            "Epoch  697 MSE:  0.2338821291923523\n",
            "Epoch  698 MSE:  0.233738973736763\n",
            "Epoch  699 MSE:  0.23360328376293182\n",
            "Epoch  700 MSE:  0.23346011340618134\n",
            "Epoch  701 MSE:  0.23331525921821594\n",
            "Epoch  702 MSE:  0.23317627608776093\n",
            "Epoch  703 MSE:  0.23303048312664032\n",
            "Epoch  704 MSE:  0.2328849583864212\n",
            "Epoch  705 MSE:  0.23274292051792145\n",
            "Epoch  706 MSE:  0.2325945645570755\n",
            "Epoch  707 MSE:  0.23244920372962952\n",
            "Epoch  708 MSE:  0.23230351507663727\n",
            "Epoch  709 MSE:  0.23215429484844208\n",
            "Epoch  710 MSE:  0.23200906813144684\n",
            "Epoch  711 MSE:  0.23185975849628448\n",
            "Epoch  712 MSE:  0.2317119687795639\n",
            "Epoch  713 MSE:  0.2315640151500702\n",
            "Epoch  714 MSE:  0.23141434788703918\n",
            "Epoch  715 MSE:  0.2312670201063156\n",
            "Epoch  716 MSE:  0.23111660778522491\n",
            "Epoch  717 MSE:  0.2309688776731491\n",
            "Epoch  718 MSE:  0.23081885278224945\n",
            "Epoch  719 MSE:  0.23067103326320648\n",
            "Epoch  720 MSE:  0.23052161931991577\n",
            "Epoch  721 MSE:  0.23037396371364594\n",
            "Epoch  722 MSE:  0.23022551834583282\n",
            "Epoch  723 MSE:  0.23007899522781372\n",
            "Epoch  724 MSE:  0.22993168234825134\n",
            "Epoch  725 MSE:  0.22978653013706207\n",
            "Epoch  726 MSE:  0.22964103519916534\n",
            "Epoch  727 MSE:  0.22949786484241486\n",
            "Epoch  728 MSE:  0.22935476899147034\n",
            "Epoch  729 MSE:  0.2292134314775467\n",
            "Epoch  730 MSE:  0.22907380759716034\n",
            "Epoch  731 MSE:  0.2289348840713501\n",
            "Epoch  732 MSE:  0.22879846394062042\n",
            "Epoch  733 MSE:  0.2286635786294937\n",
            "Epoch  734 MSE:  0.22853027284145355\n",
            "Epoch  735 MSE:  0.22839967906475067\n",
            "Epoch  736 MSE:  0.22827129065990448\n",
            "Epoch  737 MSE:  0.22814472019672394\n",
            "Epoch  738 MSE:  0.22802095115184784\n",
            "Epoch  739 MSE:  0.2279001772403717\n",
            "Epoch  740 MSE:  0.2277820110321045\n",
            "Epoch  741 MSE:  0.22766660153865814\n",
            "Epoch  742 MSE:  0.22755388915538788\n",
            "Epoch  743 MSE:  0.22744429111480713\n",
            "Epoch  744 MSE:  0.2273377627134323\n",
            "Epoch  745 MSE:  0.22723479568958282\n",
            "Epoch  746 MSE:  0.22713595628738403\n",
            "Epoch  747 MSE:  0.22704587876796722\n",
            "Epoch  748 MSE:  0.22698380053043365\n",
            "Epoch  749 MSE:  0.22706949710845947\n",
            "Epoch  750 MSE:  0.2280576080083847\n",
            "Epoch  751 MSE:  0.2351178228855133\n",
            "Epoch  752 MSE:  0.2800661623477936\n",
            "Epoch  753 MSE:  0.3773362934589386\n",
            "Epoch  754 MSE:  0.29799970984458923\n",
            "Epoch  755 MSE:  0.26924875378608704\n",
            "Epoch  756 MSE:  0.2525230050086975\n",
            "Epoch  757 MSE:  0.2782362103462219\n",
            "Epoch  758 MSE:  0.23471012711524963\n",
            "Epoch  759 MSE:  0.24444493651390076\n",
            "Epoch  760 MSE:  0.2579796314239502\n",
            "Epoch  761 MSE:  0.2444700300693512\n",
            "Epoch  762 MSE:  0.2346477210521698\n",
            "Epoch  763 MSE:  0.2408142238855362\n",
            "Epoch  764 MSE:  0.24762821197509766\n",
            "Epoch  765 MSE:  0.24526582658290863\n",
            "Epoch  766 MSE:  0.2391739785671234\n",
            "Epoch  767 MSE:  0.23711594939231873\n",
            "Epoch  768 MSE:  0.23978140950202942\n",
            "Epoch  769 MSE:  0.2428477555513382\n",
            "Epoch  770 MSE:  0.24295109510421753\n",
            "Epoch  771 MSE:  0.24047055840492249\n",
            "Epoch  772 MSE:  0.23808656632900238\n",
            "Epoch  773 MSE:  0.23778660595417023\n",
            "Epoch  774 MSE:  0.23922643065452576\n",
            "Epoch  775 MSE:  0.24051952362060547\n",
            "Epoch  776 MSE:  0.2402922660112381\n",
            "Epoch  777 MSE:  0.2388705015182495\n",
            "Epoch  778 MSE:  0.23762543499469757\n",
            "Epoch  779 MSE:  0.23748400807380676\n",
            "Epoch  780 MSE:  0.23818111419677734\n",
            "Epoch  781 MSE:  0.23875130712985992\n",
            "Epoch  782 MSE:  0.23853552341461182\n",
            "Epoch  783 MSE:  0.23771578073501587\n",
            "Epoch  784 MSE:  0.23700521886348724\n",
            "Epoch  785 MSE:  0.23690633475780487\n",
            "Epoch  786 MSE:  0.23726658523082733\n",
            "Epoch  787 MSE:  0.2375139743089676\n",
            "Epoch  788 MSE:  0.23727670311927795\n",
            "Epoch  789 MSE:  0.23672670125961304\n",
            "Epoch  790 MSE:  0.2363274097442627\n",
            "Epoch  791 MSE:  0.23631808161735535\n",
            "Epoch  792 MSE:  0.23650109767913818\n",
            "Epoch  793 MSE:  0.23650941252708435\n",
            "Epoch  794 MSE:  0.23621317744255066\n",
            "Epoch  795 MSE:  0.23582451045513153\n",
            "Epoch  796 MSE:  0.2356233149766922\n",
            "Epoch  797 MSE:  0.2356407642364502\n",
            "Epoch  798 MSE:  0.2356559783220291\n",
            "Epoch  799 MSE:  0.2354823797941208\n",
            "Epoch  800 MSE:  0.23518157005310059\n",
            "Epoch  801 MSE:  0.23495668172836304\n",
            "Epoch  802 MSE:  0.23488879203796387\n",
            "Epoch  803 MSE:  0.2348548173904419\n",
            "Epoch  804 MSE:  0.23470833897590637\n",
            "Epoch  805 MSE:  0.2344667911529541\n",
            "Epoch  806 MSE:  0.23426812887191772\n",
            "Epoch  807 MSE:  0.23417603969573975\n",
            "Epoch  808 MSE:  0.23410439491271973\n",
            "Epoch  809 MSE:  0.2339518964290619\n",
            "Epoch  810 MSE:  0.2337435632944107\n",
            "Epoch  811 MSE:  0.2335805594921112\n",
            "Epoch  812 MSE:  0.23348622024059296\n",
            "Epoch  813 MSE:  0.23338080942630768\n",
            "Epoch  814 MSE:  0.23321160674095154\n",
            "Epoch  815 MSE:  0.2330290526151657\n",
            "Epoch  816 MSE:  0.2328968495130539\n",
            "Epoch  817 MSE:  0.23278994858264923\n",
            "Epoch  818 MSE:  0.23264510929584503\n",
            "Epoch  819 MSE:  0.2324693202972412\n",
            "Epoch  820 MSE:  0.23232023417949677\n",
            "Epoch  821 MSE:  0.23220199346542358\n",
            "Epoch  822 MSE:  0.23206430673599243\n",
            "Epoch  823 MSE:  0.23189818859100342\n",
            "Epoch  824 MSE:  0.23174774646759033\n",
            "Epoch  825 MSE:  0.2316223382949829\n",
            "Epoch  826 MSE:  0.23148328065872192\n",
            "Epoch  827 MSE:  0.23132456839084625\n",
            "Epoch  828 MSE:  0.23118147253990173\n",
            "Epoch  829 MSE:  0.23105469346046448\n",
            "Epoch  830 MSE:  0.23091277480125427\n",
            "Epoch  831 MSE:  0.23076193034648895\n",
            "Epoch  832 MSE:  0.23062850534915924\n",
            "Epoch  833 MSE:  0.23049908876419067\n",
            "Epoch  834 MSE:  0.23035523295402527\n",
            "Epoch  835 MSE:  0.23021608591079712\n",
            "Epoch  836 MSE:  0.23008950054645538\n",
            "Epoch  837 MSE:  0.22995485365390778\n",
            "Epoch  838 MSE:  0.22981637716293335\n",
            "Epoch  839 MSE:  0.22968994081020355\n",
            "Epoch  840 MSE:  0.22956228256225586\n",
            "Epoch  841 MSE:  0.22942857444286346\n",
            "Epoch  842 MSE:  0.22930404543876648\n",
            "Epoch  843 MSE:  0.22918149828910828\n",
            "Epoch  844 MSE:  0.22905385494232178\n",
            "Epoch  845 MSE:  0.2289336770772934\n",
            "Epoch  846 MSE:  0.22881604731082916\n",
            "Epoch  847 MSE:  0.22869478166103363\n",
            "Epoch  848 MSE:  0.2285803258419037\n",
            "Epoch  849 MSE:  0.22846730053424835\n",
            "Epoch  850 MSE:  0.22835281491279602\n",
            "Epoch  851 MSE:  0.2282448709011078\n",
            "Epoch  852 MSE:  0.22813664376735687\n",
            "Epoch  853 MSE:  0.22802948951721191\n",
            "Epoch  854 MSE:  0.2279275804758072\n",
            "Epoch  855 MSE:  0.22782458364963531\n",
            "Epoch  856 MSE:  0.22772562503814697\n",
            "Epoch  857 MSE:  0.22762899100780487\n",
            "Epoch  858 MSE:  0.22753261029720306\n",
            "Epoch  859 MSE:  0.22744086384773254\n",
            "Epoch  860 MSE:  0.2273491770029068\n",
            "Epoch  861 MSE:  0.22726085782051086\n",
            "Epoch  862 MSE:  0.22717449069023132\n",
            "Epoch  863 MSE:  0.22708934545516968\n",
            "Epoch  864 MSE:  0.22700755298137665\n",
            "Epoch  865 MSE:  0.2269263118505478\n",
            "Epoch  866 MSE:  0.22684849798679352\n",
            "Epoch  867 MSE:  0.22677141427993774\n",
            "Epoch  868 MSE:  0.22669699788093567\n",
            "Epoch  869 MSE:  0.22662405669689178\n",
            "Epoch  870 MSE:  0.22655317187309265\n",
            "Epoch  871 MSE:  0.22648406028747559\n",
            "Epoch  872 MSE:  0.2264164388179779\n",
            "Epoch  873 MSE:  0.22635085880756378\n",
            "Epoch  874 MSE:  0.22628656029701233\n",
            "Epoch  875 MSE:  0.22622418403625488\n",
            "Epoch  876 MSE:  0.22616292536258698\n",
            "Epoch  877 MSE:  0.2261035144329071\n",
            "Epoch  878 MSE:  0.22604523599147797\n",
            "Epoch  879 MSE:  0.22598865628242493\n",
            "Epoch  880 MSE:  0.22593310475349426\n",
            "Epoch  881 MSE:  0.22587910294532776\n",
            "Epoch  882 MSE:  0.2258262187242508\n",
            "Epoch  883 MSE:  0.2257746011018753\n",
            "Epoch  884 MSE:  0.22572414577007294\n",
            "Epoch  885 MSE:  0.2256748080253601\n",
            "Epoch  886 MSE:  0.22562669217586517\n",
            "Epoch  887 MSE:  0.2255794256925583\n",
            "Epoch  888 MSE:  0.2255333960056305\n",
            "Epoch  889 MSE:  0.22548821568489075\n",
            "Epoch  890 MSE:  0.22544416785240173\n",
            "Epoch  891 MSE:  0.22540096938610077\n",
            "Epoch  892 MSE:  0.2253587543964386\n",
            "Epoch  893 MSE:  0.22531746327877045\n",
            "Epoch  894 MSE:  0.22527700662612915\n",
            "Epoch  895 MSE:  0.22523745894432068\n",
            "Epoch  896 MSE:  0.22519870102405548\n",
            "Epoch  897 MSE:  0.2251608520746231\n",
            "Epoch  898 MSE:  0.22512373328208923\n",
            "Epoch  899 MSE:  0.22508741915225983\n",
            "Epoch  900 MSE:  0.22505193948745728\n",
            "Epoch  901 MSE:  0.22501713037490845\n",
            "Epoch  902 MSE:  0.2249830812215805\n",
            "Epoch  903 MSE:  0.22494974732398987\n",
            "Epoch  904 MSE:  0.22491706907749176\n",
            "Epoch  905 MSE:  0.22488509118556976\n",
            "Epoch  906 MSE:  0.2248537689447403\n",
            "Epoch  907 MSE:  0.22482307255268097\n",
            "Epoch  908 MSE:  0.2247929871082306\n",
            "Epoch  909 MSE:  0.22476346790790558\n",
            "Epoch  910 MSE:  0.22473454475402832\n",
            "Epoch  911 MSE:  0.22470615804195404\n",
            "Epoch  912 MSE:  0.22467832267284393\n",
            "Epoch  913 MSE:  0.22465096414089203\n",
            "Epoch  914 MSE:  0.2246241420507431\n",
            "Epoch  915 MSE:  0.22459776699543\n",
            "Epoch  916 MSE:  0.22457186877727509\n",
            "Epoch  917 MSE:  0.2245464026927948\n",
            "Epoch  918 MSE:  0.22452139854431152\n",
            "Epoch  919 MSE:  0.22449681162834167\n",
            "Epoch  920 MSE:  0.22447259724140167\n",
            "Epoch  921 MSE:  0.2244488149881363\n",
            "Epoch  922 MSE:  0.22442539036273956\n",
            "Epoch  923 MSE:  0.2244023233652115\n",
            "Epoch  924 MSE:  0.22437964379787445\n",
            "Epoch  925 MSE:  0.22435730695724487\n",
            "Epoch  926 MSE:  0.22433529794216156\n",
            "Epoch  927 MSE:  0.2243136167526245\n",
            "Epoch  928 MSE:  0.22429227828979492\n",
            "Epoch  929 MSE:  0.22427122294902802\n",
            "Epoch  930 MSE:  0.22425048053264618\n",
            "Epoch  931 MSE:  0.22423003613948822\n",
            "Epoch  932 MSE:  0.22420988976955414\n",
            "Epoch  933 MSE:  0.22419001162052155\n",
            "Epoch  934 MSE:  0.22417040169239044\n",
            "Epoch  935 MSE:  0.22415107488632202\n",
            "Epoch  936 MSE:  0.22413195669651031\n",
            "Epoch  937 MSE:  0.22411313652992249\n",
            "Epoch  938 MSE:  0.22409456968307495\n",
            "Epoch  939 MSE:  0.22407621145248413\n",
            "Epoch  940 MSE:  0.2240580916404724\n",
            "Epoch  941 MSE:  0.2240401804447174\n",
            "Epoch  942 MSE:  0.2240225225687027\n",
            "Epoch  943 MSE:  0.2240050584077835\n",
            "Epoch  944 MSE:  0.22398780286312103\n",
            "Epoch  945 MSE:  0.22397078573703766\n",
            "Epoch  946 MSE:  0.22395391762256622\n",
            "Epoch  947 MSE:  0.2239372730255127\n",
            "Epoch  948 MSE:  0.2239207923412323\n",
            "Epoch  949 MSE:  0.22390449047088623\n",
            "Epoch  950 MSE:  0.22388839721679688\n",
            "Epoch  951 MSE:  0.22387246787548065\n",
            "Epoch  952 MSE:  0.22385670244693756\n",
            "Epoch  953 MSE:  0.2238411009311676\n",
            "Epoch  954 MSE:  0.22382569313049316\n",
            "Epoch  955 MSE:  0.22381043434143066\n",
            "Epoch  956 MSE:  0.2237953245639801\n",
            "Epoch  957 MSE:  0.22378036379814148\n",
            "Epoch  958 MSE:  0.223765566945076\n",
            "Epoch  959 MSE:  0.22375093400478363\n",
            "Epoch  960 MSE:  0.22373643517494202\n",
            "Epoch  961 MSE:  0.22372214496135712\n",
            "Epoch  962 MSE:  0.22370807826519012\n",
            "Epoch  963 MSE:  0.22369453310966492\n",
            "Epoch  964 MSE:  0.22368203103542328\n",
            "Epoch  965 MSE:  0.22367261350154877\n",
            "Epoch  966 MSE:  0.22367221117019653\n",
            "Epoch  967 MSE:  0.22370082139968872\n",
            "Epoch  968 MSE:  0.22382591664791107\n",
            "Epoch  969 MSE:  0.22427979111671448\n",
            "Epoch  970 MSE:  0.22590382397174835\n",
            "Epoch  971 MSE:  0.2312876135110855\n",
            "Epoch  972 MSE:  0.24780747294425964\n",
            "Epoch  973 MSE:  0.2708127200603485\n",
            "Epoch  974 MSE:  0.26803532242774963\n",
            "Epoch  975 MSE:  0.22471904754638672\n",
            "Epoch  976 MSE:  0.2486564815044403\n",
            "Epoch  977 MSE:  0.23286573588848114\n",
            "Epoch  978 MSE:  0.23638463020324707\n",
            "Epoch  979 MSE:  0.23050887882709503\n",
            "Epoch  980 MSE:  0.23554176092147827\n",
            "Epoch  981 MSE:  0.22673119604587555\n",
            "Epoch  982 MSE:  0.2354237288236618\n",
            "Epoch  983 MSE:  0.2266700267791748\n",
            "Epoch  984 MSE:  0.23135946691036224\n",
            "Epoch  985 MSE:  0.2306865155696869\n",
            "Epoch  986 MSE:  0.2269468605518341\n",
            "Epoch  987 MSE:  0.23148714005947113\n",
            "Epoch  988 MSE:  0.22831428050994873\n",
            "Epoch  989 MSE:  0.22785450518131256\n",
            "Epoch  990 MSE:  0.23039953410625458\n",
            "Epoch  991 MSE:  0.22749288380146027\n",
            "Epoch  992 MSE:  0.22815397381782532\n",
            "Epoch  993 MSE:  0.22934311628341675\n",
            "Epoch  994 MSE:  0.22713081538677216\n",
            "Epoch  995 MSE:  0.2280188649892807\n",
            "Epoch  996 MSE:  0.22844313085079193\n",
            "Epoch  997 MSE:  0.22682465612888336\n",
            "Epoch  998 MSE:  0.227740079164505\n",
            "Epoch  999 MSE:  0.2276121824979782\n",
            "Training time: 181.64150476455688\n"
          ]
        }
      ]
    },
    {
      "cell_type": "code",
      "source": [
        "print(len(times))\n",
        "print(len(hist))"
      ],
      "metadata": {
        "colab": {
          "base_uri": "https://localhost:8080/"
        },
        "id": "cA74nkMkqRvQ",
        "outputId": "8bf8909b-c94e-4656-d3a4-cdd234344a08"
      },
      "execution_count": 62,
      "outputs": [
        {
          "output_type": "stream",
          "name": "stdout",
          "text": [
            "1000\n",
            "1000\n"
          ]
        }
      ]
    },
    {
      "cell_type": "code",
      "source": [
        "fig2 = plt.figure(2, figsize=(8, 6))\n",
        "plt.clf()\n",
        "\n",
        "# Plot the training points\n",
        "plt.scatter(times, hist, cmap=plt.cm.Set1, edgecolor=\"k\")\n",
        "plt.xlabel(\"time\")\n",
        "plt.ylabel(\"loss\")\n",
        "fig2.show()"
      ],
      "metadata": {
        "colab": {
          "base_uri": "https://localhost:8080/",
          "height": 388
        },
        "id": "2EhbtTUUozRW",
        "outputId": "79385065-369a-4cd4-e60f-5b02d6c3bb08"
      },
      "execution_count": 63,
      "outputs": [
        {
          "output_type": "display_data",
          "data": {
            "text/plain": [
              "<Figure size 576x432 with 1 Axes>"
            ],
            "image/png": "[encoded data removed]"
          },
          "metadata": {
            "needs_background": "light"
          }
        }
      ]
    },
    {
      "cell_type": "code",
      "source": [
        "torch.save(model, 'model.pkl')"
      ],
      "metadata": {
        "id": "9j24SYcVxoBy"
      },
      "execution_count": 64,
      "outputs": []
    },
    {
      "cell_type": "code",
      "source": [
        "model2 = torch.load('model.pkl')"
      ],
      "metadata": {
        "id": "4ezA9ajexvR4"
      },
      "execution_count": 65,
      "outputs": []
    },
    {
      "cell_type": "markdown",
      "source": [
        "## 4 Validate"
      ],
      "metadata": {
        "id": "vgGsRSLooXcA"
      }
    },
    {
      "cell_type": "code",
      "source": [
        "y_pred = model.forward(x_val)\n",
        "y_pred = y_pred.detach().numpy()"
      ],
      "metadata": {
        "id": "Ze01NSMtofj2"
      },
      "execution_count": 66,
      "outputs": []
    },
    {
      "cell_type": "code",
      "source": [
        "threshold = 0.5\n",
        "y_pred = y_pred>threshold\n",
        "y_pred = y_pred.reshape(y_pred.shape[0])"
      ],
      "metadata": {
        "id": "dEeQN8r-VjUa"
      },
      "execution_count": 67,
      "outputs": []
    },
    {
      "cell_type": "code",
      "source": [
        "print(y_pred.shape)"
      ],
      "metadata": {
        "colab": {
          "base_uri": "https://localhost:8080/"
        },
        "id": "IwOxxFfq2Xvt",
        "outputId": "25198f76-6c0b-4df1-a346-5b084db70036"
      },
      "execution_count": 68,
      "outputs": [
        {
          "output_type": "stream",
          "name": "stdout",
          "text": [
            "(1429,)\n"
          ]
        }
      ]
    },
    {
      "cell_type": "code",
      "source": [
        "print(y_val.shape)"
      ],
      "metadata": {
        "colab": {
          "base_uri": "https://localhost:8080/"
        },
        "id": "_Srjiw5pQAdz",
        "outputId": "f5cf0a11-e5de-4f9e-fa34-98e3d35192cf"
      },
      "execution_count": 69,
      "outputs": [
        {
          "output_type": "stream",
          "name": "stdout",
          "text": [
            "(1429,)\n"
          ]
        }
      ]
    },
    {
      "cell_type": "code",
      "source": [
        "print(metrics.f1_score(y_val,y_pred))"
      ],
      "metadata": {
        "colab": {
          "base_uri": "https://localhost:8080/"
        },
        "id": "M0Br_WI9VzXN",
        "outputId": "af4db784-4d5c-4d85-b2c8-adb1b675f759"
      },
      "execution_count": 70,
      "outputs": [
        {
          "output_type": "stream",
          "name": "stdout",
          "text": [
            "0.5163826998689384\n"
          ]
        }
      ]
    },
    {
      "cell_type": "code",
      "source": [
        "print(metrics.confusion_matrix(y_val,y_pred))"
      ],
      "metadata": {
        "colab": {
          "base_uri": "https://localhost:8080/"
        },
        "id": "EhDWr_TyV-Zh",
        "outputId": "6f0c9e1f-0e51-4fd7-a4be-70d7e27adc8c"
      },
      "execution_count": 71,
      "outputs": [
        {
          "output_type": "stream",
          "name": "stdout",
          "text": [
            "[[297 394]\n",
            " [344 394]]\n"
          ]
        }
      ]
    },
    {
      "cell_type": "markdown",
      "source": [
        "## 5 Test and create the test csv"
      ],
      "metadata": {
        "id": "fLI0VQpUYQA2"
      }
    },
    {
      "cell_type": "code",
      "source": [
        "y_test = model.forward(x_test)\n",
        "y_test = y_test.detach().numpy()"
      ],
      "metadata": {
        "id": "xA-aXZ-obbeZ"
      },
      "execution_count": 72,
      "outputs": []
    },
    {
      "cell_type": "code",
      "source": [
        "threshold = 0.5\n",
        "y_test = y_test>threshold\n",
        "y_test = y_test.reshape(y_test.shape[0])"
      ],
      "metadata": {
        "id": "cFJXosdAbtN6"
      },
      "execution_count": 74,
      "outputs": []
    },
    {
      "cell_type": "code",
      "source": [
        "print(y_test.shape)"
      ],
      "metadata": {
        "colab": {
          "base_uri": "https://localhost:8080/"
        },
        "id": "_bZtst7Jb5Yp",
        "outputId": "fae76c87-1140-4876-dd54-a7ecb7670554"
      },
      "execution_count": 75,
      "outputs": [
        {
          "output_type": "stream",
          "name": "stdout",
          "text": [
            "(716,)\n"
          ]
        }
      ]
    },
    {
      "cell_type": "code",
      "source": [
        "import json\n",
        "solution_dict = {}\n",
        "# 10 because I look the 10 days before to predict, so the fisrt 10 I can't predict their result\n",
        "solution_dict['test_index'] = test_x_df['test_index'].values[10:]\n",
        "solution_dict['Target'] = y_test\n",
        "\n",
        "solution_df = pd.DataFrame(solution_dict)\n",
        "solution_df.to_csv('predictions.csv')\n"
      ],
      "metadata": {
        "id": "4KAu7eKLcMbj"
      },
      "execution_count": 80,
      "outputs": []
    },
    {
      "cell_type": "code",
      "source": [
        "\n",
        "solution_dict['test_index'] = list(solution_dict['test_index'])\n",
        "for i in range(len(solution_dict['test_index'])):\n",
        "  solution_dict['test_index'][i] = int(solution_dict['test_index'][i])\n",
        "solution_dict['Target'] = list(solution_dict['Target'])\n",
        "for i in range(len(solution_dict['Target'])):\n",
        "  solution_dict['Target'][i] = int(solution_dict['Target'][i])\n",
        "\n",
        "with open(\"predictions.json\", \"w\") as fw:\n",
        "  json.dump(solution_dict, fw, indent = 6)"
      ],
      "metadata": {
        "id": "VGS7k0Yzfp0-"
      },
      "execution_count": 82,
      "outputs": []
    }
  ]
}